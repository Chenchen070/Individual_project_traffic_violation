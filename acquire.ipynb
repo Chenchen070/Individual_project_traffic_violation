{
 "cells": [
  {
   "cell_type": "markdown",
   "id": "18ce01e2",
   "metadata": {},
   "source": [
    "## Acquire traffic violation data from Montgomery county opendata website\n",
    "\n",
    "Data source:\n",
    "https://data.montgomerycountymd.gov/Public-Safety/Traffic-Violations/4mse-ku6q\n",
    "\n",
    "* original data: 2012-01-01 to 2022-08-15\n",
    "\n",
    "Step 1: Download the CSV file from the link, the cut off data is 2022-08-15. Save the name as Traffic_Violations_montgomery_county.csv\n",
    "\n",
    "Step 2: Import the CSV file to jupyter notebook."
   ]
  },
  {
   "cell_type": "code",
   "execution_count": 2,
   "id": "5c01cc97",
   "metadata": {},
   "outputs": [],
   "source": [
    "import pandas as pd\n",
    "import numpy as np"
   ]
  },
  {
   "cell_type": "code",
   "execution_count": 1,
   "id": "2b35096a",
   "metadata": {},
   "outputs": [],
   "source": [
    "def acquire_data():\n",
    "    df = pd.read_csv('Traffic_Violations_montgomery_county.csv')\n",
    "    return df"
   ]
  },
  {
   "cell_type": "code",
   "execution_count": null,
   "id": "7e83e63d",
   "metadata": {},
   "outputs": [],
   "source": []
  },
  {
   "cell_type": "code",
   "execution_count": null,
   "id": "83c98a2c",
   "metadata": {},
   "outputs": [],
   "source": []
  },
  {
   "cell_type": "code",
   "execution_count": null,
   "id": "1d1e780a",
   "metadata": {},
   "outputs": [],
   "source": []
  }
 ],
 "metadata": {
  "kernelspec": {
   "display_name": "Python 3 (ipykernel)",
   "language": "python",
   "name": "python3"
  },
  "language_info": {
   "codemirror_mode": {
    "name": "ipython",
    "version": 3
   },
   "file_extension": ".py",
   "mimetype": "text/x-python",
   "name": "python",
   "nbconvert_exporter": "python",
   "pygments_lexer": "ipython3",
   "version": "3.9.12"
  }
 },
 "nbformat": 4,
 "nbformat_minor": 5
}
