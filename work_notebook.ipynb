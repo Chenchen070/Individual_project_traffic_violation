{
 "cells": [
  {
   "cell_type": "markdown",
   "id": "9a876fd5",
   "metadata": {},
   "source": [
    "# Personal Injury Prediction In Traffic Accidents - Montgomery County, MD\n",
    "\n",
    "- Chenchen Feng"
   ]
  },
  {
   "cell_type": "markdown",
   "id": "2cf101db",
   "metadata": {},
   "source": [
    "## Project Goals\n",
    "\n",
    "* The goal is by analyzing the past ten years traffic accident records Montgomery county Maryland. Find the key drivers of personal injury in those traffic accidents. Make recommendation to the police department to better prediction on personal injury in traffic accident so the casualty would get be treated as learly as possible."
   ]
  },
  {
   "cell_type": "markdown",
   "id": "7ab7c63d",
   "metadata": {},
   "source": [
    "## Project Description\n",
    "* In this report, I will use 2012-01-01 to 2022-08-15 Montgomery county (MD) traffic violation's data. Use classification machine learning method develop a model to predict personal injury in traffic accidents. It will help the police department has a better preparation of the medical resources for casualties in accidents.\n",
    "* In the end, I will give out the recommendations for data collection system and next step I would like to take."
   ]
  },
  {
   "cell_type": "markdown",
   "id": "eaf0d5ca",
   "metadata": {},
   "source": [
    "## Initial Questions\n",
    "\n",
    "1. Does personal injury in accident related to the hour? day of week? month? year?\n",
    "2. Does the personal injury in accident rate related to race and gender?\n",
    "3. What about the relationship between personal injury and Violation Type? achohol?\n",
    "4. Does persoonal injury in accident has relationship with agency location?\n",
    "5. Is property damage has relationship with personal injury?"
   ]
  },
  {
   "cell_type": "markdown",
   "id": "fb4949a4",
   "metadata": {},
   "source": [
    "## Data Dictionary\n",
    "\n",
    "* Date Of Stop: Date of the traffic violation.\n",
    "* Time Of Stop: Time of the traffic violation.\n",
    "* SubAgency: Court code representing the district of assignment of the officer. \n",
    "* Belts: YES if seat belts were in use in accident cases.\n",
    "* Personal Injury: Yes if traffic violation involved Personal Injury.\n",
    "* Property Damage: Yes if traffic violation involved Property Damage.\n",
    "* Alcohol: Yes if the traffic violation included an alcohol related suspension.\n",
    "* Violation Type: Violation type. (Examples: Warning, Citation, SERO)\n",
    "* Contributed To Accident: If the traffic violation was a contributing factor in an accident.\n",
    "* Race: Race of the driver. (Example: Asian, Black, White, Other, etc.)\n",
    "* Gender: Gender of the driver (F = Female, M = Male)"
   ]
  },
  {
   "cell_type": "markdown",
   "id": "36c3dd26",
   "metadata": {},
   "source": [
    "## Library will be uesed"
   ]
  },
  {
   "cell_type": "code",
   "execution_count": 1,
   "id": "048eaf02",
   "metadata": {},
   "outputs": [],
   "source": [
    "import pandas as pd\n",
    "import datetime as dt\n",
    "import numpy as np\n",
    "import matplotlib.pyplot as plt\n",
    "import seaborn as sns\n",
    "import scipy.stats as stats\n",
    "\n",
    "import warnings\n",
    "warnings.filterwarnings('ignore')"
   ]
  },
  {
   "cell_type": "code",
   "execution_count": null,
   "id": "f30ffebd",
   "metadata": {},
   "outputs": [],
   "source": []
  },
  {
   "cell_type": "markdown",
   "id": "ba457752",
   "metadata": {},
   "source": [
    "## Wrangle Zillow Data\n",
    "To acquire the Montgomery county traffic violation data, I did the following two steps:\n",
    "1. Download the CSV file from https://data.montgomerycountymd.gov/Public-Safety/Traffic-Violations/4mse-ku6q.\n",
    "2. Import CSV file to jupyter notebook.\n",
    "* Data period: 2012-01-01 to 2022-08-15, if you want to download the data and run the notebook, be aware the date."
   ]
  },
  {
   "cell_type": "code",
   "execution_count": 2,
   "id": "1951975f",
   "metadata": {},
   "outputs": [],
   "source": [
    "import acquire\n",
    "df = acquire.acquire_data()"
   ]
  },
  {
   "cell_type": "markdown",
   "id": "dc89d800",
   "metadata": {},
   "source": [
    "To clean the data, I did flowing steps:\n",
    "1. drop columns\n",
    "2. check null value\n",
    "3. convert time format\n",
    "4. set the time to index and create new columns for year, month, day of the week and hour\n",
    "5. convert the boolean value into int: Contributed to accident\n",
    "6. drop rows: SubAgency S15 only has 3 rows and W15 only have 7 rows.\n",
    "7. get all the data related to accident."
   ]
  },
  {
   "cell_type": "code",
   "execution_count": 3,
   "id": "235c2ce7",
   "metadata": {},
   "outputs": [],
   "source": [
    "import prepare\n",
    "df = prepare.clean_data(df)"
   ]
  },
  {
   "cell_type": "markdown",
   "id": "e7a9fada",
   "metadata": {},
   "source": [
    "Split the data into train 56%, validate 24%, test 20%.\n",
    "* Our data is now split into 3 samples so that we can use the train sample to explore, fit to models and evaluate without looking at new data.\n",
    "* The validate is used to verify that our models built are not overfit to the train dataset and get the best model.\n",
    "* The test set is used to give an estimate of how this model will perform on data is has never seen in the future."
   ]
  },
  {
   "cell_type": "code",
   "execution_count": 4,
   "id": "1421772d",
   "metadata": {},
   "outputs": [
    {
     "data": {
      "text/plain": [
       "((26922, 13), (11538, 13), (9616, 13))"
      ]
     },
     "execution_count": 4,
     "metadata": {},
     "output_type": "execute_result"
    }
   ],
   "source": [
    "train, validate, test = prepare.split_data(df)\n",
    "train.shape, validate.shape, test.shape"
   ]
  },
  {
   "cell_type": "markdown",
   "id": "85379ca5",
   "metadata": {},
   "source": [
    "## Data Context\n",
    "\n",
    "There are 48,076 accident related in Montgomery county, Maryland traffic violation records. \n",
    "\n",
    "Data time range is from 2012-01-01 to 2022-08-15. \n",
    "\n",
    "Due to COVID, the traffic violation and accident number reduce a lot from 2020."
   ]
  },
  {
   "cell_type": "code",
   "execution_count": 101,
   "id": "3c59814a",
   "metadata": {},
   "outputs": [
    {
     "data": {
      "text/plain": [
       "<AxesSubplot:xlabel='year', ylabel='Count'>"
      ]
     },
     "execution_count": 101,
     "metadata": {},
     "output_type": "execute_result"
    },
    {
     "data": {
      "image/png": "[encoded data removed]",
      "text/plain": [
       "<Figure size 720x216 with 1 Axes>"
      ]
     },
     "metadata": {
      "needs_background": "light"
     },
     "output_type": "display_data"
    }
   ],
   "source": [
    "# hist plot for total accidents count from 2012-01-01 to 2022-08-15 in the total traffic violation records\n",
    "plt.rcParams[\"figure.figsize\"] = (10,3)\n",
    "sns.histplot(df.year.sort_index(ascending=True), color = 'pink')"
   ]
  },
  {
   "cell_type": "code",
   "execution_count": 107,
   "id": "11077f28",
   "metadata": {},
   "outputs": [
    {
     "data": {
      "text/plain": [
       "<AxesSubplot:xlabel='Gender', ylabel='Count'>"
      ]
     },
     "execution_count": 107,
     "metadata": {},
     "output_type": "execute_result"
    },
    {
     "data": {
      "image/png": "[encoded data removed]",
      "text/plain": [
       "<Figure size 1080x288 with 1 Axes>"
      ]
     },
     "metadata": {
      "needs_background": "light"
     },
     "output_type": "display_data"
    }
   ],
   "source": [
    "# accidents number by the race and gender\n",
    "plt.rcParams[\"figure.figsize\"] = (15,4)\n",
    "sns.histplot(df.Gender.sort_index(ascending=True), color = 'orange')\n",
    "sns.histplot(df.Race.sort_index(ascending=True), color = 'pink')"
   ]
  },
  {
   "cell_type": "markdown",
   "id": "50558032",
   "metadata": {},
   "source": [
    "* Takeaway: males are more likely to have accident than females. White people group has the highest accident number."
   ]
  },
  {
   "cell_type": "markdown",
   "id": "dfa3299a",
   "metadata": {},
   "source": [
    "## Explore"
   ]
  },
  {
   "cell_type": "markdown",
   "id": "bc3b24d8",
   "metadata": {},
   "source": [
    "### 1.  Does personal injury in accident related to the hour? day of week? month? year?"
   ]
  },
  {
   "cell_type": "code",
   "execution_count": 111,
   "id": "9d290c85",
   "metadata": {},
   "outputs": [
    {
     "data": {
      "text/plain": [
       "<AxesSubplot:xlabel='month', ylabel='Count'>"
      ]
     },
     "execution_count": 111,
     "metadata": {},
     "output_type": "execute_result"
    },
    {
     "data": {
      "image/png": "[encoded data removed]",
      "text/plain": [
       "<Figure size 1440x216 with 1 Axes>"
      ]
     },
     "metadata": {
      "needs_background": "light"
     },
     "output_type": "display_data"
    }
   ],
   "source": [
    "plt.rcParams[\"figure.figsize\"] = (20,3)\n",
    "sns.histplot(df.month.sort_index(ascending=True), color = 'pink')\n",
    "sns.histplot(df.day_of_week.sort_index(ascending=True), color = 'orange')"
   ]
  },
  {
   "cell_type": "code",
   "execution_count": 112,
   "id": "73e9692f",
   "metadata": {},
   "outputs": [
    {
     "data": {
      "text/plain": [
       "<AxesSubplot:xlabel='hour', ylabel='Count'>"
      ]
     },
     "execution_count": 112,
     "metadata": {},
     "output_type": "execute_result"
    },
    {
     "data": {
      "image/png": "[encoded data removed]",
      "text/plain": [
       "<Figure size 1440x216 with 1 Axes>"
      ]
     },
     "metadata": {
      "needs_background": "light"
     },
     "output_type": "display_data"
    }
   ],
   "source": [
    "plt.rcParams[\"figure.figsize\"] = (20,3)\n",
    "sns.histplot(df.hour.sort_index(ascending=True), color = 'pink')"
   ]
  },
  {
   "cell_type": "markdown",
   "id": "c72f7a2d",
   "metadata": {},
   "source": [
    "* Holiday season and summer time has more accidents happen.\n",
    "* Sunday has the highest number of accident.\n",
    "* Accidents happen more in the rush hours in Montgonery county."
   ]
  },
  {
   "cell_type": "code",
   "execution_count": 22,
   "id": "5f6c14cf",
   "metadata": {},
   "outputs": [
    {
     "data": {
      "text/plain": [
       "<AxesSubplot:ylabel='year'>"
      ]
     },
     "execution_count": 22,
     "metadata": {},
     "output_type": "execute_result"
    },
    {
     "data": {
      "image/png": "[encoded data removed]",
      "text/plain": [
       "<Figure size 720x576 with 1 Axes>"
      ]
     },
     "metadata": {
      "needs_background": "light"
     },
     "output_type": "display_data"
    },
    {
     "data": {
      "image/png": "[encoded data removed]",
      "text/plain": [
       "<Figure size 720x288 with 1 Axes>"
      ]
     },
     "metadata": {
      "needs_background": "light"
     },
     "output_type": "display_data"
    },
    {
     "data": {
      "image/png": "[encoded data removed]",
      "text/plain": [
       "<Figure size 720x360 with 1 Axes>"
      ]
     },
     "metadata": {
      "needs_background": "light"
     },
     "output_type": "display_data"
    },
    {
     "data": {
      "image/png": "[encoded data removed]",
      "text/plain": [
       "<Figure size 720x360 with 1 Axes>"
      ]
     },
     "metadata": {
      "needs_background": "light"
     },
     "output_type": "display_data"
    }
   ],
   "source": [
    "# create hour, day of week, month and year crosstab tables\n",
    "hour = pd.crosstab(train.hour, train['Personal Injury'], normalize = 'index').sort_index(ascending=False)\n",
    "day_of_week = pd.crosstab(train.day_of_week, train['Personal Injury'], normalize = 'index').sort_index(ascending=False)\n",
    "month = pd.crosstab(train.month, train['Personal Injury'], normalize = 'index').sort_index(ascending=False)\n",
    "year = pd.crosstab(train.year, train['Personal Injury'], normalize = 'index').sort_index(ascending=False)\n",
    "\n",
    "# plot chart for each table to show the percentage of personal injury\n",
    "hour.plot.barh(stacked = True, figsize = (10, 8), fontsize = 10)\n",
    "day_of_week.plot.barh(stacked = True, figsize = (10, 4), fontsize = 10)\n",
    "month.plot.barh(stacked = True, figsize = (10, 5), fontsize = 10)\n",
    "year.plot.barh(stacked = True, figsize = (10, 5), fontsize = 10)"
   ]
  },
  {
   "cell_type": "markdown",
   "id": "599801cc",
   "metadata": {},
   "source": [
    "* Let's run statistic tests for day of week and hours"
   ]
  },
  {
   "cell_type": "code",
   "execution_count": 113,
   "id": "be81a583",
   "metadata": {},
   "outputs": [
    {
     "name": "stdout",
     "output_type": "stream",
     "text": [
      "We reject the null hypothesis, they are dependent.\n"
     ]
    }
   ],
   "source": [
    "observed1 = pd.crosstab(train.day_of_week, train['Personal Injury'])\n",
    "chi21, p1, degf1, expected1 = stats.chi2_contingency(observed1)\n",
    "\n",
    "alpha = 0.05\n",
    "if p1 < alpha:\n",
    "    print(\"We reject the null hypothesis, they are dependent.\")\n",
    "else:\n",
    "    print(\"We fail to reject the null hypothesis, they are independent.\")"
   ]
  },
  {
   "cell_type": "code",
   "execution_count": 114,
   "id": "b074374b",
   "metadata": {},
   "outputs": [
    {
     "name": "stdout",
     "output_type": "stream",
     "text": [
      "We reject the null hypothesis, they are dependent.\n"
     ]
    }
   ],
   "source": [
    "observed2 = pd.crosstab(train.hour, train['Personal Injury'])\n",
    "chi22, p2, degf2, expected2 = stats.chi2_contingency(observed2)\n",
    "\n",
    "alpha = 0.05\n",
    "if p2 < alpha:\n",
    "    print(\"We reject the null hypothesis, they are dependent.\")\n",
    "else:\n",
    "    print(\"We fail to reject the null hypothesis, they are independent.\")"
   ]
  },
  {
   "cell_type": "markdown",
   "id": "5e0e26a5",
   "metadata": {},
   "source": [
    "### Answer:\n",
    "* Hour: most personal injury accidents happen during the day time, from 06:00 - 18:00.\n",
    "* Day of week: weekends seems has less perosonal injury accidents even weekends have more accidents number.\n",
    "* Month: June and Octobr have the hightest personal injury rate in accidents just the same as accidents number.\n",
    "* Year: 2020-2022 have the lowest rate because COVID started from the beginning of 2020 and accidents number reduced a lot due to COVID."
   ]
  },
  {
   "cell_type": "markdown",
   "id": "21d10476",
   "metadata": {},
   "source": [
    "### 2. Does the personal injury in accident rate related to race and gender?"
   ]
  },
  {
   "cell_type": "code",
   "execution_count": 35,
   "id": "82cae329",
   "metadata": {},
   "outputs": [
    {
     "data": {
      "text/plain": [
       "<AxesSubplot:xlabel='Gender', ylabel='Count'>"
      ]
     },
     "execution_count": 35,
     "metadata": {},
     "output_type": "execute_result"
    },
    {
     "data": {
      "image/png": "[encoded data removed]",
      "text/plain": [
       "<Figure size 720x216 with 1 Axes>"
      ]
     },
     "metadata": {
      "needs_background": "light"
     },
     "output_type": "display_data"
    }
   ],
   "source": [
    "# gender and race count for accident\n",
    "plt.rcParams[\"figure.figsize\"] = (10,3)\n",
    "sns.histplot(train.Gender, color = 'green')\n",
    "sns.histplot(train.Race, color = 'yellow')"
   ]
  },
  {
   "cell_type": "code",
   "execution_count": 32,
   "id": "3d45f3b7",
   "metadata": {},
   "outputs": [
    {
     "data": {
      "text/plain": [
       "<AxesSubplot:ylabel='Race'>"
      ]
     },
     "execution_count": 32,
     "metadata": {},
     "output_type": "execute_result"
    },
    {
     "data": {
      "image/png": "[encoded data removed]",
      "text/plain": [
       "<Figure size 720x144 with 1 Axes>"
      ]
     },
     "metadata": {
      "needs_background": "light"
     },
     "output_type": "display_data"
    },
    {
     "data": {
      "image/png": "[encoded data removed]",
      "text/plain": [
       "<Figure size 720x216 with 1 Axes>"
      ]
     },
     "metadata": {
      "needs_background": "light"
     },
     "output_type": "display_data"
    }
   ],
   "source": [
    "race = pd.crosstab(train.Race, train['Personal Injury'], normalize = 'index')\n",
    "gender = pd.crosstab(train.Gender, train['Personal Injury'], normalize = 'index')\n",
    "\n",
    "gender.plot.barh(stacked = True, figsize = (10, 2), fontsize = 12)\n",
    "race.plot.barh(stacked = True, figsize = (10, 3), fontsize = 12)"
   ]
  },
  {
   "cell_type": "markdown",
   "id": "b2ab5f1e",
   "metadata": {},
   "source": [
    "### Answer:\n",
    "* Gender: males accident number is more than double of the female, but the female's personal injury rate is higher than males.\n",
    "* Race: according to the race count and persoonal injury rate in accident, white people should be the highest one."
   ]
  },
  {
   "cell_type": "markdown",
   "id": "d84359c5",
   "metadata": {},
   "source": [
    "### 3. What about the relationship between personal injury and Violation Type? achohol?"
   ]
  },
  {
   "cell_type": "code",
   "execution_count": 40,
   "id": "9f1572bd",
   "metadata": {},
   "outputs": [
    {
     "data": {
      "text/plain": [
       "<AxesSubplot:ylabel='Alcohol'>"
      ]
     },
     "execution_count": 40,
     "metadata": {},
     "output_type": "execute_result"
    },
    {
     "data": {
      "image/png": "[encoded data removed]",
      "text/plain": [
       "<Figure size 720x216 with 1 Axes>"
      ]
     },
     "metadata": {
      "needs_background": "light"
     },
     "output_type": "display_data"
    },
    {
     "data": {
      "image/png": "[encoded data removed]",
      "text/plain": [
       "<Figure size 720x144 with 1 Axes>"
      ]
     },
     "metadata": {
      "needs_background": "light"
     },
     "output_type": "display_data"
    }
   ],
   "source": [
    "violation = pd.crosstab(train['Violation Type'], train['Personal Injury'], normalize = 'index')\n",
    "alcohol = pd.crosstab(train.Alcohol, train['Personal Injury'], normalize = 'index')\n",
    "\n",
    "violation.plot.barh(stacked = True, figsize = (10, 3), fontsize = 10)\n",
    "alcohol.plot.barh(stacked = True, figsize = (10, 2), fontsize = 10)"
   ]
  },
  {
   "cell_type": "markdown",
   "id": "96a290fe",
   "metadata": {},
   "source": [
    "### Answer:\n",
    "* Violation Type: Citation and warning are the highest two, it might because citation has the highest accident counts.\n",
    "* Alcohol: alcohol related accident has more chance to cause personal injury."
   ]
  },
  {
   "cell_type": "markdown",
   "id": "6e5c8159",
   "metadata": {},
   "source": [
    "### 4. Does persoonal injury in accident has relationship with agency location?"
   ]
  },
  {
   "cell_type": "code",
   "execution_count": 41,
   "id": "867974ca",
   "metadata": {},
   "outputs": [
    {
     "data": {
      "text/plain": [
       "<AxesSubplot:ylabel='SubAgency'>"
      ]
     },
     "execution_count": 41,
     "metadata": {},
     "output_type": "execute_result"
    },
    {
     "data": {
      "image/png": "[encoded data removed]",
      "text/plain": [
       "<Figure size 720x288 with 1 Axes>"
      ]
     },
     "metadata": {
      "needs_background": "light"
     },
     "output_type": "display_data"
    }
   ],
   "source": [
    "agency = pd.crosstab(train['SubAgency'], train['Personal Injury'], normalize = 'index')\n",
    "agency.plot.barh(stacked = True, figsize = (10, 4), fontsize = 10)"
   ]
  },
  {
   "cell_type": "code",
   "execution_count": 115,
   "id": "81e0c53c",
   "metadata": {},
   "outputs": [
    {
     "name": "stdout",
     "output_type": "stream",
     "text": [
      "We reject the null hypothesis, they are dependent.\n"
     ]
    }
   ],
   "source": [
    "observed3 = pd.crosstab(train.SubAgency, train['Personal Injury'])\n",
    "chi23, p3, degf3, expected3 = stats.chi2_contingency(observed1)\n",
    "\n",
    "alpha = 0.05\n",
    "if p3 < alpha:\n",
    "    print(\"We reject the null hypothesis, they are dependent.\")\n",
    "else:\n",
    "    print(\"We fail to reject the null hypothesis, they are independent.\")"
   ]
  },
  {
   "cell_type": "markdown",
   "id": "b2707acd",
   "metadata": {},
   "source": [
    "### Answer:\n",
    "* Different locations has different rate of persoonal injury, they are dependent. Germantown is the highest one."
   ]
  },
  {
   "cell_type": "markdown",
   "id": "2461a1de",
   "metadata": {},
   "source": [
    "### 5. Is property damage has relationship with personal injury?"
   ]
  },
  {
   "cell_type": "code",
   "execution_count": 46,
   "id": "6e717fd3",
   "metadata": {},
   "outputs": [
    {
     "data": {
      "text/plain": [
       "<AxesSubplot:xlabel='Property Damage', ylabel='Count'>"
      ]
     },
     "execution_count": 46,
     "metadata": {},
     "output_type": "execute_result"
    },
    {
     "data": {
      "image/png": "[encoded data removed]",
      "text/plain": [
       "<Figure size 1080x216 with 1 Axes>"
      ]
     },
     "metadata": {
      "needs_background": "light"
     },
     "output_type": "display_data"
    }
   ],
   "source": [
    "sns.histplot(train['Property Damage'].sort_index(ascending=True))"
   ]
  },
  {
   "cell_type": "code",
   "execution_count": 47,
   "id": "59ae2409",
   "metadata": {},
   "outputs": [
    {
     "data": {
      "text/plain": [
       "<AxesSubplot:ylabel='Property Damage'>"
      ]
     },
     "execution_count": 47,
     "metadata": {},
     "output_type": "execute_result"
    },
    {
     "data": {
      "image/png": "[encoded data removed]",
      "text/plain": [
       "<Figure size 720x144 with 1 Axes>"
      ]
     },
     "metadata": {
      "needs_background": "light"
     },
     "output_type": "display_data"
    }
   ],
   "source": [
    "damage = pd.crosstab(train['Property Damage'], train['Personal Injury'], normalize = 'index')\n",
    "damage.plot.barh(stacked = True, figsize = (10, 2), fontsize = 10)"
   ]
  },
  {
   "cell_type": "markdown",
   "id": "842e48ea",
   "metadata": {},
   "source": [
    "### Answer:\n",
    "* it seems property damage and personal injury has no relationship."
   ]
  },
  {
   "cell_type": "markdown",
   "id": "deb652c7",
   "metadata": {},
   "source": [
    "## Summary"
   ]
  },
  {
   "cell_type": "markdown",
   "id": "b12627d2",
   "metadata": {},
   "source": [
    "Race, gender, alcohol, agency location and all the time features all have relationship with personal injury in traffic accidents. Also violation type is related to our target variable personal injury. Since violation type is an outcome of traffic violation, personal injury is also an outcome. I prefer to not use one outcome to predic another outcome.\n",
    "* Feature will be used for feature engineering will be:\n",
    "\n",
    "    Alcohol, race, gender, subagency, hour, day of week, month"
   ]
  },
  {
   "cell_type": "markdown",
   "id": "f694d2f4",
   "metadata": {},
   "source": [
    "## Feature Engineering"
   ]
  },
  {
   "cell_type": "code",
   "execution_count": 48,
   "id": "6cd632d5",
   "metadata": {},
   "outputs": [],
   "source": [
    "from sklearn.feature_selection import SelectKBest, RFE, f_regression, SequentialFeatureSelector\n",
    "\n",
    "# split the train first\n",
    "x_train_feature = train[['Alcohol', 'Race','day_of_week', 'hour','Gender','SubAgency','month']]\n",
    "y_train_feature = train[['Personal Injury']]\n",
    "\n",
    "# get dummy variables \n",
    "x_train_dummy_feature = pd.get_dummies(x_train_feature)\n",
    "y_train_dummy_feature = pd.get_dummies(y_train_feature, drop_first=True)"
   ]
  },
  {
   "cell_type": "code",
   "execution_count": 49,
   "id": "c10e1510",
   "metadata": {},
   "outputs": [
    {
     "data": {
      "text/plain": [
       "Index(['Race_HISPANIC', 'day_of_week_Sunday', 'hour_01', 'hour_03', 'hour_14',\n",
       "       'hour_23', 'SubAgency_2nd District, Bethesda',\n",
       "       'SubAgency_4th District, Wheaton', 'SubAgency_5th District, Germantown',\n",
       "       'SubAgency_6th District, Gaithersburg / Montgomery Village'],\n",
       "      dtype='object')"
      ]
     },
     "execution_count": 49,
     "metadata": {},
     "output_type": "execute_result"
    }
   ],
   "source": [
    "# use select k best method to select top 10 attributes\n",
    "kbest = SelectKBest(f_regression, k=10)\n",
    "kbest.fit(x_train_dummy_feature, y_train_dummy_feature)\n",
    "x_train_dummy_feature.columns[kbest.get_support()]"
   ]
  },
  {
   "cell_type": "markdown",
   "id": "175289d2",
   "metadata": {},
   "source": [
    "* select k best: race, day of week, hour, subagency"
   ]
  },
  {
   "cell_type": "code",
   "execution_count": 51,
   "id": "0334c4ef",
   "metadata": {},
   "outputs": [
    {
     "data": {
      "text/plain": [
       "Index(['month_01-Jan', 'month_02-Feb', 'month_03-Mar', 'month_04-Apr',\n",
       "       'month_05-May', 'month_07-Jul', 'month_08-Aug', 'month_09-Sep',\n",
       "       'month_11-Nov', 'month_12-Dec'],\n",
       "      dtype='object')"
      ]
     },
     "execution_count": 51,
     "metadata": {},
     "output_type": "execute_result"
    }
   ],
   "source": [
    "# use RFE method to select top 10 attributes\n",
    "from sklearn.linear_model import LinearRegression\n",
    "model = LinearRegression()\n",
    "rfe = RFE(model, n_features_to_select=10)\n",
    "rfe.fit(x_train_dummy_feature, y_train_dummy_feature)\n",
    "x_train_dummy_feature.columns[rfe.get_support()]"
   ]
  },
  {
   "cell_type": "markdown",
   "id": "2e0aa593",
   "metadata": {},
   "source": [
    "* RFE: month"
   ]
  },
  {
   "cell_type": "markdown",
   "id": "f3080713",
   "metadata": {},
   "source": [
    "## Modeling\n",
    "\n",
    "* Because personal injury in accident is a boolean/yes or no value, I will use classification machine learning algorithms to fit to the training data and evaluate on validate set.\n",
    "* Here I will use race, agency location, hour, week of day and month as my features. Then built four different model with same features.\n",
    "    1. KNN\n",
    "    2. Decision tree\n",
    "    3. Random forest\n",
    "    4. Logistic refression\n",
    "\n",
    "For the metric, I will use F1 score because I want to minimize all the false prediction. If there is personal injury in accident but we don't sent out medical assistance, it might cause the casualty couldn't get treatment in time. Or thre is no personal inury but we send the medical assistance, it will cause wasting  of resources.\n",
    "* For calculating F1 score, I created a function in prepare.py\n",
    "\n"
   ]
  },
  {
   "cell_type": "code",
   "execution_count": 5,
   "id": "b8fa9ddf",
   "metadata": {},
   "outputs": [],
   "source": [
    "# import libraries for modeling\n",
    "from sklearn.tree import DecisionTreeClassifier\n",
    "from sklearn.metrics import classification_report, confusion_matrix, plot_confusion_matrix\n",
    "from sklearn.ensemble import RandomForestClassifier\n",
    "from sklearn.linear_model import LogisticRegression\n",
    "from sklearn.neighbors import KNeighborsClassifier"
   ]
  },
  {
   "cell_type": "markdown",
   "id": "7e1e8330",
   "metadata": {},
   "source": [
    "### Baseline"
   ]
  },
  {
   "cell_type": "code",
   "execution_count": 6,
   "id": "3f969ec6",
   "metadata": {},
   "outputs": [
    {
     "data": {
      "text/plain": [
       "No     20757\n",
       "Yes     6165\n",
       "Name: Personal Injury, dtype: int64"
      ]
     },
     "execution_count": 6,
     "metadata": {},
     "output_type": "execute_result"
    }
   ],
   "source": [
    "# find the mode of personal injury for baseline\n",
    "train['Personal Injury'].value_counts()"
   ]
  },
  {
   "cell_type": "code",
   "execution_count": 7,
   "id": "9c576f15",
   "metadata": {},
   "outputs": [
    {
     "name": "stdout",
     "output_type": "stream",
     "text": [
      "baseline accuracy on train set: 77.10%\n",
      "baseline accuracy on validate set: 77.53%\n"
     ]
    }
   ],
   "source": [
    "# set baseline on train and validate, also calculate the accuracy\n",
    "train['baseline'] = 'No'\n",
    "baseline_accuracy_train = (train['Personal Injury'] == train.baseline).mean()\n",
    "print(f'baseline accuracy on train set: {baseline_accuracy_train:.2%}')\n",
    "validate['baseline'] = 'No'\n",
    "baseline_accuracy_validate = (validate['Personal Injury'] == validate.baseline).mean()\n",
    "print(f'baseline accuracy on validate set: {baseline_accuracy_validate:.2%}')"
   ]
  },
  {
   "cell_type": "code",
   "execution_count": 16,
   "id": "a7961748",
   "metadata": {},
   "outputs": [],
   "source": [
    "# slpit train, validate and test data before modeling\n",
    "x_train = train[['Race','day_of_week', 'hour','month','SubAgency']]\n",
    "y_train = train[['Personal Injury']]\n",
    "x_validate = validate[['Race','day_of_week', 'hour','month','SubAgency']]\n",
    "y_validate = validate[['Personal Injury']]\n",
    "x_test = test[['Race','day_of_week', 'hour','month','SubAgency']]\n",
    "y_test = test[['Personal Injury']]\n",
    "\n",
    "x_train = pd.get_dummies(x_train, drop_first=True)\n",
    "y_train = pd.get_dummies(y_train, drop_first=True)\n",
    "x_validate = pd.get_dummies(x_validate, drop_first=True)\n",
    "y_validate = pd.get_dummies(y_validate, drop_first=True)\n",
    "x_test = pd.get_dummies(x_test, drop_first=True)\n",
    "y_test = pd.get_dummies(y_test, drop_first=True)"
   ]
  },
  {
   "cell_type": "markdown",
   "id": "5be46104",
   "metadata": {},
   "source": [
    "## Train\n",
    "1. KNN\n",
    "2. Decision tree\n",
    "3. Random forest\n",
    "4. Logistic regression\n",
    "\n",
    "### 1. KNN"
   ]
  },
  {
   "cell_type": "code",
   "execution_count": 65,
   "id": "20ff2ca5",
   "metadata": {},
   "outputs": [
    {
     "data": {
      "image/png": "[encoded data removed]",
      "text/plain": [
       "<Figure size 1080x216 with 1 Axes>"
      ]
     },
     "metadata": {
      "needs_background": "light"
     },
     "output_type": "display_data"
    }
   ],
   "source": [
    "# first we need to find the best K number for our model\n",
    "k_range = range(1, 20)\n",
    "train_scores = []\n",
    "validate_scores = []\n",
    "for k in k_range:\n",
    "    # make the modek\n",
    "    knn = KNeighborsClassifier(n_neighbors = k)\n",
    "    # fit the model (on train and only train)\n",
    "    knn.fit(x_train, y_train)\n",
    "    train_scores.append(knn.score(x_train, y_train))\n",
    "    validate_scores.append(knn.score(x_validate, y_validate))\n",
    "plt.figure()\n",
    "plt.xlabel('k')\n",
    "plt.ylabel('accuracy')\n",
    "plt.plot(k_range, train_scores, label='Train')\n",
    "plt.plot(k_range, validate_scores, label='Validate')\n",
    "plt.legend()\n",
    "plt.xticks([0,5,10,15,20])\n",
    "plt.show()"
   ]
  },
  {
   "cell_type": "markdown",
   "id": "feff9c57",
   "metadata": {},
   "source": [
    "* k = 12 is the best"
   ]
  },
  {
   "cell_type": "code",
   "execution_count": 35,
   "id": "3a3e46b5",
   "metadata": {},
   "outputs": [
    {
     "name": "stdout",
     "output_type": "stream",
     "text": [
      "              precision    recall  f1-score   support\n",
      "\n",
      "           0       0.82      0.97      0.89     20757\n",
      "           1       0.76      0.29      0.42      6165\n",
      "\n",
      "    accuracy                           0.82     26922\n",
      "   macro avg       0.79      0.63      0.65     26922\n",
      "weighted avg       0.81      0.82      0.78     26922\n",
      "\n"
     ]
    }
   ],
   "source": [
    "# make the knn model with the best k number\n",
    "knn = KNeighborsClassifier(n_neighbors=12, weights='uniform')\n",
    "\n",
    "# fit the model on the x_train\n",
    "knn.fit(x_train, y_train)\n",
    "\n",
    "# get prediction\n",
    "predictions = knn.predict(x_train)\n",
    "print(classification_report(y_train, predictions))"
   ]
  },
  {
   "cell_type": "code",
   "execution_count": 36,
   "id": "aefacd1c",
   "metadata": {},
   "outputs": [
    {
     "name": "stdout",
     "output_type": "stream",
     "text": [
      "Accuracy of KNN(k=12) classifier on training set: 81.61%\n"
     ]
    }
   ],
   "source": [
    "print('Accuracy of KNN(k=12) classifier on training set: {:.2%}'\n",
    "     .format(knn.score(x_train, y_train)))"
   ]
  },
  {
   "cell_type": "code",
   "execution_count": 18,
   "id": "0cf40a47",
   "metadata": {},
   "outputs": [
    {
     "data": {
      "text/plain": [
       "0.41819464033850495"
      ]
     },
     "execution_count": 18,
     "metadata": {},
     "output_type": "execute_result"
    }
   ],
   "source": [
    "# use the function in prepare.py to calculate f1 score\n",
    "prepare.f1_score(y_train, predictions)"
   ]
  },
  {
   "cell_type": "markdown",
   "id": "b3066e5d",
   "metadata": {},
   "source": [
    "### 2. Decision Tree"
   ]
  },
  {
   "cell_type": "code",
   "execution_count": 73,
   "id": "1571e46e",
   "metadata": {},
   "outputs": [
    {
     "data": {
      "text/html": [
       "<div>\n",
       "<style scoped>\n",
       "    .dataframe tbody tr th:only-of-type {\n",
       "        vertical-align: middle;\n",
       "    }\n",
       "\n",
       "    .dataframe tbody tr th {\n",
       "        vertical-align: top;\n",
       "    }\n",
       "\n",
       "    .dataframe thead th {\n",
       "        text-align: right;\n",
       "    }\n",
       "</style>\n",
       "<table border=\"1\" class=\"dataframe\">\n",
       "  <thead>\n",
       "    <tr style=\"text-align: right;\">\n",
       "      <th></th>\n",
       "      <th>max_depth</th>\n",
       "      <th>train_accuracy</th>\n",
       "      <th>validate_accuracy</th>\n",
       "      <th>difference</th>\n",
       "    </tr>\n",
       "  </thead>\n",
       "  <tbody>\n",
       "    <tr>\n",
       "      <th>0</th>\n",
       "      <td>1</td>\n",
       "      <td>0.771005</td>\n",
       "      <td>0.775264</td>\n",
       "      <td>-0.004259</td>\n",
       "    </tr>\n",
       "    <tr>\n",
       "      <th>1</th>\n",
       "      <td>2</td>\n",
       "      <td>0.771005</td>\n",
       "      <td>0.775264</td>\n",
       "      <td>-0.004259</td>\n",
       "    </tr>\n",
       "    <tr>\n",
       "      <th>2</th>\n",
       "      <td>3</td>\n",
       "      <td>0.771339</td>\n",
       "      <td>0.775351</td>\n",
       "      <td>-0.004012</td>\n",
       "    </tr>\n",
       "    <tr>\n",
       "      <th>3</th>\n",
       "      <td>4</td>\n",
       "      <td>0.772157</td>\n",
       "      <td>0.776304</td>\n",
       "      <td>-0.004148</td>\n",
       "    </tr>\n",
       "    <tr>\n",
       "      <th>4</th>\n",
       "      <td>5</td>\n",
       "      <td>0.772825</td>\n",
       "      <td>0.775958</td>\n",
       "      <td>-0.003133</td>\n",
       "    </tr>\n",
       "    <tr>\n",
       "      <th>5</th>\n",
       "      <td>6</td>\n",
       "      <td>0.774311</td>\n",
       "      <td>0.776131</td>\n",
       "      <td>-0.001820</td>\n",
       "    </tr>\n",
       "    <tr>\n",
       "      <th>6</th>\n",
       "      <td>7</td>\n",
       "      <td>0.777060</td>\n",
       "      <td>0.775178</td>\n",
       "      <td>0.001882</td>\n",
       "    </tr>\n",
       "    <tr>\n",
       "      <th>7</th>\n",
       "      <td>8</td>\n",
       "      <td>0.779251</td>\n",
       "      <td>0.777431</td>\n",
       "      <td>0.001820</td>\n",
       "    </tr>\n",
       "    <tr>\n",
       "      <th>8</th>\n",
       "      <td>9</td>\n",
       "      <td>0.782148</td>\n",
       "      <td>0.778471</td>\n",
       "      <td>0.003677</td>\n",
       "    </tr>\n",
       "    <tr>\n",
       "      <th>9</th>\n",
       "      <td>10</td>\n",
       "      <td>0.786606</td>\n",
       "      <td>0.777778</td>\n",
       "      <td>0.008828</td>\n",
       "    </tr>\n",
       "    <tr>\n",
       "      <th>10</th>\n",
       "      <td>11</td>\n",
       "      <td>0.791026</td>\n",
       "      <td>0.780638</td>\n",
       "      <td>0.010388</td>\n",
       "    </tr>\n",
       "    <tr>\n",
       "      <th>11</th>\n",
       "      <td>12</td>\n",
       "      <td>0.795966</td>\n",
       "      <td>0.784365</td>\n",
       "      <td>0.011601</td>\n",
       "    </tr>\n",
       "    <tr>\n",
       "      <th>12</th>\n",
       "      <td>13</td>\n",
       "      <td>0.801278</td>\n",
       "      <td>0.788785</td>\n",
       "      <td>0.012493</td>\n",
       "    </tr>\n",
       "    <tr>\n",
       "      <th>13</th>\n",
       "      <td>14</td>\n",
       "      <td>0.808187</td>\n",
       "      <td>0.791558</td>\n",
       "      <td>0.016628</td>\n",
       "    </tr>\n",
       "    <tr>\n",
       "      <th>14</th>\n",
       "      <td>15</td>\n",
       "      <td>0.815318</td>\n",
       "      <td>0.793985</td>\n",
       "      <td>0.021333</td>\n",
       "    </tr>\n",
       "    <tr>\n",
       "      <th>15</th>\n",
       "      <td>16</td>\n",
       "      <td>0.822524</td>\n",
       "      <td>0.797972</td>\n",
       "      <td>0.024552</td>\n",
       "    </tr>\n",
       "    <tr>\n",
       "      <th>16</th>\n",
       "      <td>17</td>\n",
       "      <td>0.829805</td>\n",
       "      <td>0.798752</td>\n",
       "      <td>0.031053</td>\n",
       "    </tr>\n",
       "    <tr>\n",
       "      <th>17</th>\n",
       "      <td>18</td>\n",
       "      <td>0.836825</td>\n",
       "      <td>0.802305</td>\n",
       "      <td>0.034519</td>\n",
       "    </tr>\n",
       "    <tr>\n",
       "      <th>18</th>\n",
       "      <td>19</td>\n",
       "      <td>0.845331</td>\n",
       "      <td>0.806032</td>\n",
       "      <td>0.039299</td>\n",
       "    </tr>\n",
       "    <tr>\n",
       "      <th>19</th>\n",
       "      <td>20</td>\n",
       "      <td>0.854060</td>\n",
       "      <td>0.808372</td>\n",
       "      <td>0.045688</td>\n",
       "    </tr>\n",
       "    <tr>\n",
       "      <th>20</th>\n",
       "      <td>21</td>\n",
       "      <td>0.861563</td>\n",
       "      <td>0.811232</td>\n",
       "      <td>0.050331</td>\n",
       "    </tr>\n",
       "    <tr>\n",
       "      <th>21</th>\n",
       "      <td>22</td>\n",
       "      <td>0.870218</td>\n",
       "      <td>0.816086</td>\n",
       "      <td>0.054132</td>\n",
       "    </tr>\n",
       "    <tr>\n",
       "      <th>22</th>\n",
       "      <td>23</td>\n",
       "      <td>0.877387</td>\n",
       "      <td>0.819813</td>\n",
       "      <td>0.057574</td>\n",
       "    </tr>\n",
       "    <tr>\n",
       "      <th>23</th>\n",
       "      <td>24</td>\n",
       "      <td>0.883701</td>\n",
       "      <td>0.819379</td>\n",
       "      <td>0.064322</td>\n",
       "    </tr>\n",
       "    <tr>\n",
       "      <th>24</th>\n",
       "      <td>25</td>\n",
       "      <td>0.890276</td>\n",
       "      <td>0.823886</td>\n",
       "      <td>0.066389</td>\n",
       "    </tr>\n",
       "    <tr>\n",
       "      <th>25</th>\n",
       "      <td>26</td>\n",
       "      <td>0.896070</td>\n",
       "      <td>0.823800</td>\n",
       "      <td>0.072271</td>\n",
       "    </tr>\n",
       "    <tr>\n",
       "      <th>26</th>\n",
       "      <td>27</td>\n",
       "      <td>0.902199</td>\n",
       "      <td>0.824406</td>\n",
       "      <td>0.077793</td>\n",
       "    </tr>\n",
       "    <tr>\n",
       "      <th>27</th>\n",
       "      <td>28</td>\n",
       "      <td>0.907548</td>\n",
       "      <td>0.827613</td>\n",
       "      <td>0.079935</td>\n",
       "    </tr>\n",
       "    <tr>\n",
       "      <th>28</th>\n",
       "      <td>29</td>\n",
       "      <td>0.913899</td>\n",
       "      <td>0.828653</td>\n",
       "      <td>0.085246</td>\n",
       "    </tr>\n",
       "  </tbody>\n",
       "</table>\n",
       "</div>"
      ],
      "text/plain": [
       "    max_depth  train_accuracy  validate_accuracy  difference\n",
       "0           1        0.771005           0.775264   -0.004259\n",
       "1           2        0.771005           0.775264   -0.004259\n",
       "2           3        0.771339           0.775351   -0.004012\n",
       "3           4        0.772157           0.776304   -0.004148\n",
       "4           5        0.772825           0.775958   -0.003133\n",
       "5           6        0.774311           0.776131   -0.001820\n",
       "6           7        0.777060           0.775178    0.001882\n",
       "7           8        0.779251           0.777431    0.001820\n",
       "8           9        0.782148           0.778471    0.003677\n",
       "9          10        0.786606           0.777778    0.008828\n",
       "10         11        0.791026           0.780638    0.010388\n",
       "11         12        0.795966           0.784365    0.011601\n",
       "12         13        0.801278           0.788785    0.012493\n",
       "13         14        0.808187           0.791558    0.016628\n",
       "14         15        0.815318           0.793985    0.021333\n",
       "15         16        0.822524           0.797972    0.024552\n",
       "16         17        0.829805           0.798752    0.031053\n",
       "17         18        0.836825           0.802305    0.034519\n",
       "18         19        0.845331           0.806032    0.039299\n",
       "19         20        0.854060           0.808372    0.045688\n",
       "20         21        0.861563           0.811232    0.050331\n",
       "21         22        0.870218           0.816086    0.054132\n",
       "22         23        0.877387           0.819813    0.057574\n",
       "23         24        0.883701           0.819379    0.064322\n",
       "24         25        0.890276           0.823886    0.066389\n",
       "25         26        0.896070           0.823800    0.072271\n",
       "26         27        0.902199           0.824406    0.077793\n",
       "27         28        0.907548           0.827613    0.079935\n",
       "28         29        0.913899           0.828653    0.085246"
      ]
     },
     "execution_count": 73,
     "metadata": {},
     "output_type": "execute_result"
    }
   ],
   "source": [
    "# find the best max_depth number\n",
    "metrics = []\n",
    "for i in range(1, 30):\n",
    "    # Make the model\n",
    "    tree = DecisionTreeClassifier(max_depth=i, random_state=123)\n",
    "\n",
    "    # Fit the model (on train and only train)\n",
    "    tree = tree.fit(x_train, y_train)\n",
    "\n",
    "    # Use the model\n",
    "    in_sample_accuracy = tree.score(x_train, y_train)\n",
    "    \n",
    "    out_of_sample_accuracy = tree.score(x_validate, y_validate)\n",
    "\n",
    "    output = {\n",
    "        \"max_depth\": i,\n",
    "        \"train_accuracy\": in_sample_accuracy,\n",
    "        \"validate_accuracy\": out_of_sample_accuracy\n",
    "    }\n",
    "    \n",
    "    metrics.append(output)\n",
    "    \n",
    "tree_mc = pd.DataFrame(metrics)\n",
    "tree_mc[\"difference\"] = tree_mc.train_accuracy - tree_mc.validate_accuracy\n",
    "tree_mc"
   ]
  },
  {
   "cell_type": "code",
   "execution_count": 74,
   "id": "32d7d46f",
   "metadata": {},
   "outputs": [
    {
     "data": {
      "image/png": "[encoded data removed]",
      "text/plain": [
       "<Figure size 864x432 with 1 Axes>"
      ]
     },
     "metadata": {
      "needs_background": "light"
     },
     "output_type": "display_data"
    }
   ],
   "source": [
    "# viz for picking the best max_depth\n",
    "plt.figure(figsize=(12, 6))\n",
    "plt.plot(tree_mc.max_depth, tree_mc.train_accuracy, marker = 'o')\n",
    "plt.plot(tree_mc.max_depth, tree_mc.validate_accuracy, marker = 'o')\n",
    "plt.title('Overfitting Occurs at Higher Values for Max Depth')\n",
    "plt.xlabel('Max Depth')\n",
    "plt.ylabel('Accuracy')\n",
    "plt.show()"
   ]
  },
  {
   "cell_type": "markdown",
   "id": "fa67cd03",
   "metadata": {},
   "source": [
    "* max_depth = 14"
   ]
  },
  {
   "cell_type": "code",
   "execution_count": 25,
   "id": "8f94045c",
   "metadata": {},
   "outputs": [
    {
     "name": "stdout",
     "output_type": "stream",
     "text": [
      "              precision    recall  f1-score   support\n",
      "\n",
      "           0       0.81      0.99      0.89     20757\n",
      "           1       0.87      0.19      0.31      6165\n",
      "\n",
      "    accuracy                           0.81     26922\n",
      "   macro avg       0.84      0.59      0.60     26922\n",
      "weighted avg       0.82      0.81      0.76     26922\n",
      "\n"
     ]
    }
   ],
   "source": [
    "# step 1: Creat your recipe\n",
    "tree = DecisionTreeClassifier(max_depth = 14, random_state=123)\n",
    "\n",
    "# Step 2: Fit your model to your in-sample data (train)\n",
    "tree.fit(x_train, y_train)\n",
    "\n",
    "predictions1 = tree.predict(x_train)\n",
    "print(classification_report(y_train, predictions1))"
   ]
  },
  {
   "cell_type": "code",
   "execution_count": 26,
   "id": "ee330f2f",
   "metadata": {},
   "outputs": [
    {
     "name": "stdout",
     "output_type": "stream",
     "text": [
      "Accuracy of decision tree1 (max_depth=14) classifier on train set: 80.82%\n"
     ]
    }
   ],
   "source": [
    "print('Accuracy of decision tree1 (max_depth=14) classifier on train set: {:.2%}'\n",
    "     .format(tree.score(x_train, y_train)))"
   ]
  },
  {
   "cell_type": "code",
   "execution_count": 27,
   "id": "2dabead2",
   "metadata": {},
   "outputs": [
    {
     "data": {
      "text/plain": [
       "0.31420982735723774"
      ]
     },
     "execution_count": 27,
     "metadata": {},
     "output_type": "execute_result"
    }
   ],
   "source": [
    "# use the function in prepare.py to calculate f1 score\n",
    "prepare.f1_score(y_train, predictions1)"
   ]
  },
  {
   "cell_type": "markdown",
   "id": "b2eb2110",
   "metadata": {},
   "source": [
    "### 3. Random forest"
   ]
  },
  {
   "cell_type": "code",
   "execution_count": 85,
   "id": "916690f5",
   "metadata": {},
   "outputs": [
    {
     "data": {
      "text/html": [
       "<div>\n",
       "<style scoped>\n",
       "    .dataframe tbody tr th:only-of-type {\n",
       "        vertical-align: middle;\n",
       "    }\n",
       "\n",
       "    .dataframe tbody tr th {\n",
       "        vertical-align: top;\n",
       "    }\n",
       "\n",
       "    .dataframe thead th {\n",
       "        text-align: right;\n",
       "    }\n",
       "</style>\n",
       "<table border=\"1\" class=\"dataframe\">\n",
       "  <thead>\n",
       "    <tr style=\"text-align: right;\">\n",
       "      <th></th>\n",
       "      <th>max_depth</th>\n",
       "      <th>min_sample_lead</th>\n",
       "      <th>train_accuracy</th>\n",
       "      <th>validate_accuracy</th>\n",
       "      <th>difference</th>\n",
       "    </tr>\n",
       "  </thead>\n",
       "  <tbody>\n",
       "    <tr>\n",
       "      <th>0</th>\n",
       "      <td>10</td>\n",
       "      <td>1</td>\n",
       "      <td>0.772565</td>\n",
       "      <td>0.776304</td>\n",
       "      <td>-0.003739</td>\n",
       "    </tr>\n",
       "    <tr>\n",
       "      <th>1</th>\n",
       "      <td>11</td>\n",
       "      <td>1</td>\n",
       "      <td>0.773457</td>\n",
       "      <td>0.777084</td>\n",
       "      <td>-0.003628</td>\n",
       "    </tr>\n",
       "    <tr>\n",
       "      <th>2</th>\n",
       "      <td>12</td>\n",
       "      <td>1</td>\n",
       "      <td>0.776242</td>\n",
       "      <td>0.778298</td>\n",
       "      <td>-0.002055</td>\n",
       "    </tr>\n",
       "    <tr>\n",
       "      <th>3</th>\n",
       "      <td>13</td>\n",
       "      <td>1</td>\n",
       "      <td>0.779437</td>\n",
       "      <td>0.780118</td>\n",
       "      <td>-0.000681</td>\n",
       "    </tr>\n",
       "    <tr>\n",
       "      <th>4</th>\n",
       "      <td>14</td>\n",
       "      <td>1</td>\n",
       "      <td>0.783931</td>\n",
       "      <td>0.782371</td>\n",
       "      <td>0.001560</td>\n",
       "    </tr>\n",
       "    <tr>\n",
       "      <th>5</th>\n",
       "      <td>15</td>\n",
       "      <td>1</td>\n",
       "      <td>0.790766</td>\n",
       "      <td>0.786791</td>\n",
       "      <td>0.003974</td>\n",
       "    </tr>\n",
       "    <tr>\n",
       "      <th>6</th>\n",
       "      <td>16</td>\n",
       "      <td>1</td>\n",
       "      <td>0.797749</td>\n",
       "      <td>0.789912</td>\n",
       "      <td>0.007837</td>\n",
       "    </tr>\n",
       "    <tr>\n",
       "      <th>7</th>\n",
       "      <td>17</td>\n",
       "      <td>1</td>\n",
       "      <td>0.810564</td>\n",
       "      <td>0.799445</td>\n",
       "      <td>0.011119</td>\n",
       "    </tr>\n",
       "    <tr>\n",
       "      <th>8</th>\n",
       "      <td>18</td>\n",
       "      <td>1</td>\n",
       "      <td>0.822079</td>\n",
       "      <td>0.805426</td>\n",
       "      <td>0.016653</td>\n",
       "    </tr>\n",
       "    <tr>\n",
       "      <th>9</th>\n",
       "      <td>19</td>\n",
       "      <td>1</td>\n",
       "      <td>0.833370</td>\n",
       "      <td>0.811319</td>\n",
       "      <td>0.022051</td>\n",
       "    </tr>\n",
       "    <tr>\n",
       "      <th>10</th>\n",
       "      <td>20</td>\n",
       "      <td>1</td>\n",
       "      <td>0.846631</td>\n",
       "      <td>0.818686</td>\n",
       "      <td>0.027945</td>\n",
       "    </tr>\n",
       "    <tr>\n",
       "      <th>11</th>\n",
       "      <td>21</td>\n",
       "      <td>1</td>\n",
       "      <td>0.859260</td>\n",
       "      <td>0.826140</td>\n",
       "      <td>0.033120</td>\n",
       "    </tr>\n",
       "    <tr>\n",
       "      <th>12</th>\n",
       "      <td>22</td>\n",
       "      <td>1</td>\n",
       "      <td>0.875604</td>\n",
       "      <td>0.832813</td>\n",
       "      <td>0.042790</td>\n",
       "    </tr>\n",
       "    <tr>\n",
       "      <th>13</th>\n",
       "      <td>23</td>\n",
       "      <td>1</td>\n",
       "      <td>0.889421</td>\n",
       "      <td>0.840527</td>\n",
       "      <td>0.048894</td>\n",
       "    </tr>\n",
       "    <tr>\n",
       "      <th>14</th>\n",
       "      <td>24</td>\n",
       "      <td>1</td>\n",
       "      <td>0.900862</td>\n",
       "      <td>0.845987</td>\n",
       "      <td>0.054875</td>\n",
       "    </tr>\n",
       "    <tr>\n",
       "      <th>15</th>\n",
       "      <td>25</td>\n",
       "      <td>1</td>\n",
       "      <td>0.911485</td>\n",
       "      <td>0.848241</td>\n",
       "      <td>0.063244</td>\n",
       "    </tr>\n",
       "    <tr>\n",
       "      <th>16</th>\n",
       "      <td>26</td>\n",
       "      <td>1</td>\n",
       "      <td>0.920771</td>\n",
       "      <td>0.850927</td>\n",
       "      <td>0.069844</td>\n",
       "    </tr>\n",
       "    <tr>\n",
       "      <th>17</th>\n",
       "      <td>27</td>\n",
       "      <td>1</td>\n",
       "      <td>0.929426</td>\n",
       "      <td>0.854221</td>\n",
       "      <td>0.075205</td>\n",
       "    </tr>\n",
       "    <tr>\n",
       "      <th>18</th>\n",
       "      <td>28</td>\n",
       "      <td>1</td>\n",
       "      <td>0.935146</td>\n",
       "      <td>0.857168</td>\n",
       "      <td>0.077978</td>\n",
       "    </tr>\n",
       "    <tr>\n",
       "      <th>19</th>\n",
       "      <td>29</td>\n",
       "      <td>1</td>\n",
       "      <td>0.940569</td>\n",
       "      <td>0.859421</td>\n",
       "      <td>0.081148</td>\n",
       "    </tr>\n",
       "    <tr>\n",
       "      <th>20</th>\n",
       "      <td>30</td>\n",
       "      <td>1</td>\n",
       "      <td>0.944581</td>\n",
       "      <td>0.860721</td>\n",
       "      <td>0.083860</td>\n",
       "    </tr>\n",
       "    <tr>\n",
       "      <th>21</th>\n",
       "      <td>31</td>\n",
       "      <td>1</td>\n",
       "      <td>0.947738</td>\n",
       "      <td>0.859508</td>\n",
       "      <td>0.088230</td>\n",
       "    </tr>\n",
       "    <tr>\n",
       "      <th>22</th>\n",
       "      <td>32</td>\n",
       "      <td>1</td>\n",
       "      <td>0.949632</td>\n",
       "      <td>0.861414</td>\n",
       "      <td>0.088218</td>\n",
       "    </tr>\n",
       "    <tr>\n",
       "      <th>23</th>\n",
       "      <td>33</td>\n",
       "      <td>1</td>\n",
       "      <td>0.951118</td>\n",
       "      <td>0.860808</td>\n",
       "      <td>0.090310</td>\n",
       "    </tr>\n",
       "    <tr>\n",
       "      <th>24</th>\n",
       "      <td>34</td>\n",
       "      <td>1</td>\n",
       "      <td>0.952195</td>\n",
       "      <td>0.860721</td>\n",
       "      <td>0.091474</td>\n",
       "    </tr>\n",
       "    <tr>\n",
       "      <th>25</th>\n",
       "      <td>35</td>\n",
       "      <td>1</td>\n",
       "      <td>0.952752</td>\n",
       "      <td>0.861848</td>\n",
       "      <td>0.090905</td>\n",
       "    </tr>\n",
       "    <tr>\n",
       "      <th>26</th>\n",
       "      <td>36</td>\n",
       "      <td>1</td>\n",
       "      <td>0.953607</td>\n",
       "      <td>0.860981</td>\n",
       "      <td>0.092626</td>\n",
       "    </tr>\n",
       "    <tr>\n",
       "      <th>27</th>\n",
       "      <td>37</td>\n",
       "      <td>1</td>\n",
       "      <td>0.953867</td>\n",
       "      <td>0.860894</td>\n",
       "      <td>0.092972</td>\n",
       "    </tr>\n",
       "    <tr>\n",
       "      <th>28</th>\n",
       "      <td>38</td>\n",
       "      <td>1</td>\n",
       "      <td>0.953941</td>\n",
       "      <td>0.862194</td>\n",
       "      <td>0.091747</td>\n",
       "    </tr>\n",
       "    <tr>\n",
       "      <th>29</th>\n",
       "      <td>39</td>\n",
       "      <td>1</td>\n",
       "      <td>0.954090</td>\n",
       "      <td>0.860374</td>\n",
       "      <td>0.093715</td>\n",
       "    </tr>\n",
       "  </tbody>\n",
       "</table>\n",
       "</div>"
      ],
      "text/plain": [
       "    max_depth  min_sample_lead  train_accuracy  validate_accuracy  difference\n",
       "0          10                1        0.772565           0.776304   -0.003739\n",
       "1          11                1        0.773457           0.777084   -0.003628\n",
       "2          12                1        0.776242           0.778298   -0.002055\n",
       "3          13                1        0.779437           0.780118   -0.000681\n",
       "4          14                1        0.783931           0.782371    0.001560\n",
       "5          15                1        0.790766           0.786791    0.003974\n",
       "6          16                1        0.797749           0.789912    0.007837\n",
       "7          17                1        0.810564           0.799445    0.011119\n",
       "8          18                1        0.822079           0.805426    0.016653\n",
       "9          19                1        0.833370           0.811319    0.022051\n",
       "10         20                1        0.846631           0.818686    0.027945\n",
       "11         21                1        0.859260           0.826140    0.033120\n",
       "12         22                1        0.875604           0.832813    0.042790\n",
       "13         23                1        0.889421           0.840527    0.048894\n",
       "14         24                1        0.900862           0.845987    0.054875\n",
       "15         25                1        0.911485           0.848241    0.063244\n",
       "16         26                1        0.920771           0.850927    0.069844\n",
       "17         27                1        0.929426           0.854221    0.075205\n",
       "18         28                1        0.935146           0.857168    0.077978\n",
       "19         29                1        0.940569           0.859421    0.081148\n",
       "20         30                1        0.944581           0.860721    0.083860\n",
       "21         31                1        0.947738           0.859508    0.088230\n",
       "22         32                1        0.949632           0.861414    0.088218\n",
       "23         33                1        0.951118           0.860808    0.090310\n",
       "24         34                1        0.952195           0.860721    0.091474\n",
       "25         35                1        0.952752           0.861848    0.090905\n",
       "26         36                1        0.953607           0.860981    0.092626\n",
       "27         37                1        0.953867           0.860894    0.092972\n",
       "28         38                1        0.953941           0.862194    0.091747\n",
       "29         39                1        0.954090           0.860374    0.093715"
      ]
     },
     "execution_count": 85,
     "metadata": {},
     "output_type": "execute_result"
    }
   ],
   "source": [
    "# find the best max_depth number\n",
    "metrics = []\n",
    "\n",
    "for i in range(10,40):\n",
    "    # Make the model\n",
    "    rf = RandomForestClassifier(max_depth=(i), \n",
    "                            min_samples_leaf=1,\n",
    "                            random_state=123)\n",
    "    # Fit the model (on train and only train)\n",
    "    rf = rf.fit(x_train, y_train)\n",
    "    # use the model\n",
    "    in_sample_accuracy = rf.score(x_train, y_train)\n",
    "    \n",
    "    out_of_sample_accuracy = rf.score(x_validate, y_validate)\n",
    "    \n",
    "    output = {\"max_depth\": (i),\"min_sample_lead\" :1,\n",
    "        \"train_accuracy\": in_sample_accuracy,\n",
    "        \"validate_accuracy\": out_of_sample_accuracy}\n",
    "        \n",
    "    metrics.append(output)\n",
    "    \n",
    "rf_mc = pd.DataFrame(metrics)\n",
    "rf_mc[\"difference\"] = rf_mc.train_accuracy - rf_mc.validate_accuracy\n",
    "rf_mc"
   ]
  },
  {
   "cell_type": "code",
   "execution_count": 86,
   "id": "a46b59c9",
   "metadata": {},
   "outputs": [
    {
     "data": {
      "image/png": "[encoded data removed]",
      "text/plain": [
       "<Figure size 864x432 with 1 Axes>"
      ]
     },
     "metadata": {
      "needs_background": "light"
     },
     "output_type": "display_data"
    }
   ],
   "source": [
    "# viz for picking the best max_depth\n",
    "plt.figure(figsize=(12, 6))\n",
    "plt.plot(rf_mc.max_depth, rf_mc.train_accuracy, color = 'r', marker = 'o')\n",
    "plt.plot(rf_mc.max_depth, rf_mc.validate_accuracy, color = 'b', marker = 'o')\n",
    "plt.title('Overfitting Occurs at Higher Values for Max Depth')\n",
    "plt.xlabel('Max Depth')\n",
    "plt.ylabel('Accuracy')\n",
    "plt.show()"
   ]
  },
  {
   "cell_type": "markdown",
   "id": "be0ed404",
   "metadata": {},
   "source": [
    "* Max Depth = 19"
   ]
  },
  {
   "cell_type": "code",
   "execution_count": 29,
   "id": "2430ea47",
   "metadata": {},
   "outputs": [
    {
     "name": "stdout",
     "output_type": "stream",
     "text": [
      "              precision    recall  f1-score   support\n",
      "\n",
      "           0       0.82      1.00      0.90     20757\n",
      "           1       0.97      0.28      0.43      6165\n",
      "\n",
      "    accuracy                           0.83     26922\n",
      "   macro avg       0.90      0.64      0.67     26922\n",
      "weighted avg       0.86      0.83      0.80     26922\n",
      "\n"
     ]
    }
   ],
   "source": [
    "# create the model\n",
    "rf = RandomForestClassifier(max_depth=19, \n",
    "                            min_samples_leaf=1,\n",
    "                            random_state=123)\n",
    "# fit the model\n",
    "rf.fit(x_train, y_train)\n",
    "predictions2 = rf.predict(x_train)\n",
    "\n",
    "print(classification_report(y_train, predictions2))"
   ]
  },
  {
   "cell_type": "code",
   "execution_count": 30,
   "id": "2b41acb7",
   "metadata": {},
   "outputs": [
    {
     "name": "stdout",
     "output_type": "stream",
     "text": [
      "Accuracy of random forest (max_depth=19) classifier on train set: 83.34%\n"
     ]
    }
   ],
   "source": [
    "print('Accuracy of random forest (max_depth=19) classifier on train set: {:.2%}'\n",
    "     .format(rf.score(x_train, y_train)))"
   ]
  },
  {
   "cell_type": "code",
   "execution_count": 31,
   "id": "5fd44789",
   "metadata": {},
   "outputs": [
    {
     "data": {
      "text/plain": [
       "0.43458532896395263"
      ]
     },
     "execution_count": 31,
     "metadata": {},
     "output_type": "execute_result"
    }
   ],
   "source": [
    "# use the function in prepare.py to calculate f1 score\n",
    "prepare.f1_score(y_train, predictions2)"
   ]
  },
  {
   "cell_type": "markdown",
   "id": "b3d74745",
   "metadata": {},
   "source": [
    "### 4. Logistic Regression"
   ]
  },
  {
   "cell_type": "code",
   "execution_count": 33,
   "id": "1f637206",
   "metadata": {},
   "outputs": [
    {
     "name": "stdout",
     "output_type": "stream",
     "text": [
      "              precision    recall  f1-score   support\n",
      "\n",
      "           0       0.77      1.00      0.87     20757\n",
      "           1       0.00      0.00      0.00      6165\n",
      "\n",
      "    accuracy                           0.77     26922\n",
      "   macro avg       0.39      0.50      0.44     26922\n",
      "weighted avg       0.59      0.77      0.67     26922\n",
      "\n"
     ]
    }
   ],
   "source": [
    "# Define the logistic regression model\n",
    "\n",
    "logit = LogisticRegression(C=1, random_state=123)\n",
    "\n",
    "#  fit the model on train data\n",
    "logit.fit(x_train, y_train)\n",
    "\n",
    "# now use the model to make predictions\n",
    "predictions6 = logit.predict(x_train)\n",
    "\n",
    "print(classification_report(y_train, predictions6))"
   ]
  },
  {
   "cell_type": "code",
   "execution_count": 120,
   "id": "42960af5",
   "metadata": {},
   "outputs": [
    {
     "name": "stdout",
     "output_type": "stream",
     "text": [
      "Accuracy of Logistic Regression (c=1) on train set: 77.09%\n"
     ]
    }
   ],
   "source": [
    "print('Accuracy of Logistic Regression (c=1) on train set: {:.2%}'\n",
    "     .format(logit.score(x_train, y_train)))"
   ]
  },
  {
   "cell_type": "markdown",
   "id": "7fbad134",
   "metadata": {},
   "source": [
    "####  Takeaway: \n",
    "* it seems logistic regression model doesn't perform well on imbalance data, there is no need to calculate the F1 score."
   ]
  },
  {
   "cell_type": "code",
   "execution_count": 34,
   "id": "6ccfbec9",
   "metadata": {},
   "outputs": [
    {
     "name": "stdout",
     "output_type": "stream",
     "text": [
      "baseline accuracy on validate set: 77.10%\n",
      "Accuracy of KNN (k = 12) classifier on validate set: 81.61%\n",
      "Accuracy of decision tree (max_depth = 14) classifier on validate set: 80.82%\n",
      "Accuracy of random forest (max_depth=19) classifier on validate set: 83.34%\n",
      "Accuracy of Logistic Regression (c=1) on train set: 77.09%\n"
     ]
    }
   ],
   "source": [
    "print(f'baseline accuracy on validate set: {baseline_accuracy_train:.2%}')\n",
    "print('Accuracy of KNN (k = 12) classifier on validate set: {:.2%}'\n",
    "     .format(knn.score(x_train, y_train)))\n",
    "print('Accuracy of decision tree (max_depth = 14) classifier on validate set: {:.2%}'\n",
    "     .format(tree.score(x_train, y_train)))\n",
    "print('Accuracy of random forest (max_depth=19) classifier on validate set: {:.2%}'\n",
    "     .format(rf.score(x_train, y_train)))\n",
    "print('Accuracy of Logistic Regression (c=1) on train set: {:.2%}'\n",
    "     .format(logit.score(x_train, y_train)))"
   ]
  },
  {
   "cell_type": "markdown",
   "id": "dc73c33e",
   "metadata": {},
   "source": [
    "* Accuracy on train: \n",
    "    * baseline -- 77.10%\n",
    "    1. KNN -- 81.61%\n",
    "    2. Decision tree -- 80.82%\n",
    "    3. Random forest -- 83.34%\n",
    "    4. Logistic regression -- 77.09%\n",
    "    \n",
    "\n",
    "* F1 score on train:\n",
    "    1. KNN -- 41.82%\n",
    "    2. Decision tree -- 31.42%\n",
    "    3. Random forest -- 43.46%"
   ]
  },
  {
   "cell_type": "markdown",
   "id": "c54ca84f",
   "metadata": {},
   "source": [
    "## Validate"
   ]
  },
  {
   "cell_type": "code",
   "execution_count": 37,
   "id": "6d2d5d16",
   "metadata": {},
   "outputs": [
    {
     "name": "stdout",
     "output_type": "stream",
     "text": [
      "baseline accuracy on validate set: 77.53%\n",
      "Accuracy of KNN (k = 12) classifier on validate set: 79.25%\n",
      "Accuracy of decision tree (max_depth = 14) classifier on validate set: 79.16%\n",
      "Accuracy of random forest (max_depth=19) classifier on validate set: 81.13%\n"
     ]
    }
   ],
   "source": [
    "# predict on validate\n",
    "y_pred_knn_validate = knn.predict(x_validate)\n",
    "y_pred_tree_validate = tree.predict(x_validate)\n",
    "y_pred_rf_validate = rf.predict(x_validate)\n",
    "\n",
    "# evaluate the accuracy on validate\n",
    "print(f'baseline accuracy on validate set: {baseline_accuracy_validate:.2%}')\n",
    "print('Accuracy of KNN (k = 12) classifier on validate set: {:.2%}'\n",
    "     .format(knn.score(x_validate, y_validate)))\n",
    "print('Accuracy of decision tree (max_depth = 14) classifier on validate set: {:.2%}'\n",
    "     .format(tree.score(x_validate, y_validate)))\n",
    "print('Accuracy of random forest (max_depth=19) classifier on validate set: {:.2%}'\n",
    "     .format(rf.score(x_validate, y_validate)))"
   ]
  },
  {
   "cell_type": "code",
   "execution_count": 42,
   "id": "16f7f903",
   "metadata": {},
   "outputs": [
    {
     "data": {
      "text/plain": [
       "0.3072916666666667"
      ]
     },
     "execution_count": 42,
     "metadata": {},
     "output_type": "execute_result"
    }
   ],
   "source": [
    "# F1 score for KNN on validate\n",
    "predictions3 = knn.predict(x_validate)\n",
    "prepare.f1_score(y_validate, predictions3)"
   ]
  },
  {
   "cell_type": "code",
   "execution_count": 40,
   "id": "c5d809b1",
   "metadata": {},
   "outputs": [
    {
     "data": {
      "text/plain": [
       "0.2406062519734765"
      ]
     },
     "execution_count": 40,
     "metadata": {},
     "output_type": "execute_result"
    }
   ],
   "source": [
    "# F1 score for tree on validate\n",
    "predictions4 = tree.predict(x_validate)\n",
    "prepare.f1_score(y_validate, predictions4)"
   ]
  },
  {
   "cell_type": "code",
   "execution_count": 41,
   "id": "38aa2482",
   "metadata": {},
   "outputs": [
    {
     "data": {
      "text/plain": [
       "0.3117293708504584"
      ]
     },
     "execution_count": 41,
     "metadata": {},
     "output_type": "execute_result"
    }
   ],
   "source": [
    "# F1 score for rf on validate\n",
    "predictions5 = rf.predict(x_validate)\n",
    "prepare.f1_score(y_validate, predictions5)"
   ]
  },
  {
   "cell_type": "markdown",
   "id": "42636c47",
   "metadata": {},
   "source": [
    "* Accuracy on validate:     \n",
    "    * baseline -- 77.53%\n",
    "    1. KNN -- 79.25%\n",
    "    2. Decision tree -- 79.08%\n",
    "    3. Random forest -- 81.13%\n",
    "\n",
    "\n",
    "* F1 score on validate:\n",
    "    1. KNN -- 30.73%\n",
    "    2. Decision tree -- 24.06%\n",
    "    3. Random forest -- 31.17%\n",
    "    \n",
    "### Random forest is the best model"
   ]
  },
  {
   "cell_type": "markdown",
   "id": "cdb0a7f7",
   "metadata": {},
   "source": [
    "## Test - Random Forest"
   ]
  },
  {
   "cell_type": "code",
   "execution_count": 100,
   "id": "a910cd3f",
   "metadata": {},
   "outputs": [
    {
     "name": "stdout",
     "output_type": "stream",
     "text": [
      "Accuracy of decision tree (max_depth = 19) on test set: 81.07%\n"
     ]
    }
   ],
   "source": [
    "# predict on test\n",
    "y_pred_test = rf.predict(x_test)\n",
    "\n",
    "# evaluate on test\n",
    "print('Accuracy of decision tree (max_depth = 19) on test set: {:.2%}'\n",
    "     .format(rf.score(x_test, y_test)))"
   ]
  },
  {
   "cell_type": "markdown",
   "id": "6bd25f6a",
   "metadata": {},
   "source": [
    "### Expectation:\n",
    "According to the test result, I expect the model will perform 81.07% accuracy in the future data if the data souce has no major change."
   ]
  },
  {
   "cell_type": "markdown",
   "id": "de62426d",
   "metadata": {},
   "source": [
    "# Conclusion"
   ]
  },
  {
   "cell_type": "markdown",
   "id": "e6c5241c",
   "metadata": {},
   "source": [
    "## Summary\n",
    "By analyzing the attributes of personal injury in Montgomery county (MD) traffic accidents. We built a Random forest model with max depth of 19 to predict the personal injury in accidents. The features I used for this model are race, agency location, hour, day of week and month. \n",
    "The accuracy for test model is 81.07%."
   ]
  },
  {
   "cell_type": "markdown",
   "id": "0b1a16c5",
   "metadata": {},
   "source": [
    "## Recommendations \n",
    "\n",
    "1. In the original data, the traffic violation describtion part has too many different variables (around 16000+). It's very hard to organize the describtion. But I think this is a very importnat feature for predicting the accidents and personal injury. Create more categories for seperating violations will be very helpful.\n",
    "\n",
    "\n",
    "2. Montgomery county's raffic violation data doesn't have the age information. A lot more other places' records do have the age columns. I guess it's an important arribute and wish they can add age to the data.\n",
    "\n",
    "\n",
    "3. For the accidents location, it will be better to have a city column instead of having detailed address. In this reprot, I use race to kind of estimating the location since some places do have more volume of certain race. But I don't think this method is accurate."
   ]
  },
  {
   "cell_type": "markdown",
   "id": "894fd149",
   "metadata": {},
   "source": [
    "## Next Steps\n",
    "\n",
    "1. I would like to organize the describtion into different categories to see if will help my model performce better.\n",
    "\n",
    "\n",
    "2. Personal injury in the accident is not the only outcome from traffic violation. I would like to analyze more outcomes. Explore more differrent target variables from this data."
   ]
  },
  {
   "cell_type": "code",
   "execution_count": null,
   "id": "b0034159",
   "metadata": {},
   "outputs": [],
   "source": []
  },
  {
   "cell_type": "code",
   "execution_count": null,
   "id": "0f60f895",
   "metadata": {},
   "outputs": [],
   "source": []
  },
  {
   "cell_type": "code",
   "execution_count": null,
   "id": "5047d416",
   "metadata": {},
   "outputs": [],
   "source": []
  },
  {
   "cell_type": "code",
   "execution_count": null,
   "id": "ad892c84",
   "metadata": {},
   "outputs": [],
   "source": []
  },
  {
   "cell_type": "code",
   "execution_count": null,
   "id": "afe09ec9",
   "metadata": {},
   "outputs": [],
   "source": []
  },
  {
   "cell_type": "code",
   "execution_count": null,
   "id": "084e9d7a",
   "metadata": {},
   "outputs": [],
   "source": []
  },
  {
   "cell_type": "code",
   "execution_count": null,
   "id": "f6bd828f",
   "metadata": {},
   "outputs": [],
   "source": []
  },
  {
   "cell_type": "code",
   "execution_count": null,
   "id": "f45ea443",
   "metadata": {},
   "outputs": [],
   "source": []
  },
  {
   "cell_type": "code",
   "execution_count": null,
   "id": "b92caac5",
   "metadata": {},
   "outputs": [],
   "source": []
  },
  {
   "cell_type": "code",
   "execution_count": null,
   "id": "48075417",
   "metadata": {},
   "outputs": [],
   "source": []
  },
  {
   "cell_type": "code",
   "execution_count": null,
   "id": "8a6d9c78",
   "metadata": {},
   "outputs": [],
   "source": []
  },
  {
   "cell_type": "code",
   "execution_count": null,
   "id": "2f34915d",
   "metadata": {},
   "outputs": [],
   "source": []
  }
 ],
 "metadata": {
  "kernelspec": {
   "display_name": "Python 3 (ipykernel)",
   "language": "python",
   "name": "python3"
  },
  "language_info": {
   "codemirror_mode": {
    "name": "ipython",
    "version": 3
   },
   "file_extension": ".py",
   "mimetype": "text/x-python",
   "name": "python",
   "nbconvert_exporter": "python",
   "pygments_lexer": "ipython3",
   "version": "3.9.12"
  }
 },
 "nbformat": 4,
 "nbformat_minor": 5
}
