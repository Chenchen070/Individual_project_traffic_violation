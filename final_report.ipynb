{
 "cells": [
  {
   "cell_type": "markdown",
   "id": "82b20ca5",
   "metadata": {},
   "source": [
    "# Personal Injury Prediction In Traffic Accidents - Montgomery County, MD\n",
    "\n",
    "- Chenchen Feng"
   ]
  },
  {
   "cell_type": "markdown",
   "id": "380b05a4",
   "metadata": {},
   "source": [
    "## Project Goals\n",
    "\n",
    "* The goal is by analyzing the past ten years' traffic accident records in Montgomery county Maryland. Find the key drivers of personal injury in those traffic accidents. Make recommendations to the police department to better prediction on personal injury in traffic accidents so the casualty would get treated as early as possible."
   ]
  },
  {
   "cell_type": "markdown",
   "id": "80451778",
   "metadata": {},
   "source": [
    "## Project Description\n",
    "\n",
    "* In this report, I will use 2012-01-01 to 2022-08-15 Montgomery County (MD) traffic violation data. Use the classification machine learning method to develop a model to predict personal injury in traffic accidents. It will help the police department has a better preparation of the medical resources for casualties in accidents.\n",
    "\n",
    "\n",
    "* In the end, I will give out recommendations for the data collection system and the next step I would like to take."
   ]
  },
  {
   "cell_type": "markdown",
   "id": "9fa804e1",
   "metadata": {},
   "source": [
    "## Initial Questions\n",
    "\n",
    "1. Does personal injury in an accident related to the hour? or day of the week? month? year?\n",
    "2. Does the personal injury in accident rate related to race and gender?\n",
    "3. What about the relationship between personal injury and Violation Type? alcohol?\n",
    "4. Does personal injury in the accident have a relationship with the agency location?\n",
    "5. Is property damage and belts use have a relationship with personal injury?"
   ]
  },
  {
   "cell_type": "markdown",
   "id": "94d0464d",
   "metadata": {},
   "source": [
    "## Data Dictionary\n",
    "\n",
    "* Date Of Stop: Date of the traffic violation.\n",
    "* Time Of Stop: Time of the traffic violation.\n",
    "* SubAgency: Court code representing the district of assignment of the officer. \n",
    "* Belts: YES if seat belts were in use in accident cases.\n",
    "* Personal Injury: Yes if traffic violation involved Personal Injury.\n",
    "* Property Damage: Yes if traffic violation involved Property Damage.\n",
    "* Alcohol: Yes if the traffic violation included an alcohol related suspension.\n",
    "* Violation Type: Violation type. (Examples: Warning, Citation, SERO)\n",
    "* Contributed To Accident: If the traffic violation was a contributing factor in an accident.\n",
    "* Race: Race of the driver. (Example: Asian, Black, White, Other, etc.)\n",
    "* Gender: Gender of the driver (F = Female, M = Male)"
   ]
  },
  {
   "cell_type": "code",
   "execution_count": 1,
   "id": "d8ffc58c",
   "metadata": {},
   "outputs": [],
   "source": [
    "# Library will be uesed\n",
    "import pandas as pd\n",
    "import datetime as dt\n",
    "import numpy as np\n",
    "import matplotlib.pyplot as plt\n",
    "import seaborn as sns\n",
    "import scipy.stats as stats\n",
    "\n",
    "import warnings\n",
    "warnings.filterwarnings('ignore')"
   ]
  },
  {
   "cell_type": "markdown",
   "id": "96b99c53",
   "metadata": {},
   "source": [
    "## Wrangle Zillow Data \n",
    "### (acquire.py + prepare.py)\n",
    "To acquire the Montgomery county traffic violation data, I did the following two steps:\n",
    "1. Download the CSV file from https://data.montgomerycountymd.gov/Public-Safety/Traffic-Violations/4mse-ku6q.\n",
    "2. Import CSV file to jupyter notebook.\n",
    "* Data period: 2012-01-01 to 2022-08-15, if you want to download the data and run the notebook, be aware the date."
   ]
  },
  {
   "cell_type": "code",
   "execution_count": 2,
   "id": "e284fc9b",
   "metadata": {},
   "outputs": [],
   "source": [
    "import acquire\n",
    "df = acquire.acquire_data()"
   ]
  },
  {
   "cell_type": "markdown",
   "id": "638f8403",
   "metadata": {},
   "source": [
    "To clean the data, I did flowing steps:\n",
    "1. drop columns\n",
    "2. check null value\n",
    "3. convert time format\n",
    "4. set the time to index and create new columns for year, month, day of the week and hour\n",
    "5. convert the boolean value into int: Contributed to accident\n",
    "6. drop rows: SubAgency S15 only has 3 rows and W15 only have 7 rows.\n",
    "7. get all the data related to the accident."
   ]
  },
  {
   "cell_type": "code",
   "execution_count": 3,
   "id": "f50a8a18",
   "metadata": {},
   "outputs": [],
   "source": [
    "import prepare\n",
    "df = prepare.clean_data(df)"
   ]
  },
  {
   "cell_type": "markdown",
   "id": "04ebaeeb",
   "metadata": {},
   "source": [
    "Split the data into train 56%, validate 24%, test 20%.\n",
    "* Our data is now split into 3 samples so that we can use the train sample to explore, fit to models and evaluate without looking at new data.\n",
    "* The validate is used to verify that our models built are not overfit to the train dataset and get the best model.\n",
    "* The test set is used to give an estimate of how this model will perform on data is has never seen in the future."
   ]
  },
  {
   "cell_type": "code",
   "execution_count": 4,
   "id": "321bccca",
   "metadata": {},
   "outputs": [
    {
     "data": {
      "text/plain": [
       "((26922, 13), (11538, 13), (9616, 13))"
      ]
     },
     "execution_count": 4,
     "metadata": {},
     "output_type": "execute_result"
    }
   ],
   "source": [
    "train, validate, test = prepare.split_data(df)\n",
    "train.shape, validate.shape, test.shape"
   ]
  },
  {
   "cell_type": "markdown",
   "id": "3c1ccd61",
   "metadata": {},
   "source": [
    "## Data Context\n",
    "\n",
    "There are 48,076 accidents related in Montgomery county, Maryland traffic violation records. \n",
    "\n",
    "The data time range is from 2012-01-01 to 2022-08-15. \n",
    "\n",
    "Due to COVID, traffic violations and accident numbers reduce a lot from 2020."
   ]
  },
  {
   "cell_type": "code",
   "execution_count": 5,
   "id": "0ef52148",
   "metadata": {},
   "outputs": [
    {
     "data": {
      "text/plain": [
       "<AxesSubplot:xlabel='year', ylabel='Count'>"
      ]
     },
     "execution_count": 5,
     "metadata": {},
     "output_type": "execute_result"
    },
    {
     "data": {
      "image/png": "[encoded data removed]",
      "text/plain": [
       "<Figure size 720x216 with 1 Axes>"
      ]
     },
     "metadata": {
      "needs_background": "light"
     },
     "output_type": "display_data"
    }
   ],
   "source": [
    "# hist plot for total accidents count from 2012-01-01 to 2022-08-15 in the total traffic violation records\n",
    "plt.rcParams[\"figure.figsize\"] = (10,3)\n",
    "sns.histplot(df.year.sort_index(ascending=True), color = 'pink')"
   ]
  },
  {
   "cell_type": "code",
   "execution_count": 6,
   "id": "712d5e9c",
   "metadata": {},
   "outputs": [
    {
     "data": {
      "text/plain": [
       "<AxesSubplot:xlabel='Gender', ylabel='Count'>"
      ]
     },
     "execution_count": 6,
     "metadata": {},
     "output_type": "execute_result"
    },
    {
     "data": {
      "image/png": "[encoded data removed]",
      "text/plain": [
       "<Figure size 1080x288 with 1 Axes>"
      ]
     },
     "metadata": {
      "needs_background": "light"
     },
     "output_type": "display_data"
    }
   ],
   "source": [
    "# accidents number by the race and gender\n",
    "plt.rcParams[\"figure.figsize\"] = (15,4)\n",
    "sns.histplot(df.Gender.sort_index(ascending=True), color = 'orange')\n",
    "sns.histplot(df.Race.sort_index(ascending=True), color = 'pink')"
   ]
  },
  {
   "cell_type": "markdown",
   "id": "65eaffbb",
   "metadata": {},
   "source": [
    "* Takeaway: males are more likely to have accidents than females. White people group has the highest accident number."
   ]
  },
  {
   "cell_type": "markdown",
   "id": "8077e667",
   "metadata": {},
   "source": [
    "# Explore"
   ]
  },
  {
   "cell_type": "markdown",
   "id": "d8ae0d4a",
   "metadata": {},
   "source": [
    "### 1.  Does personal injury in an accident related to the hour? or day of the week? month? year?"
   ]
  },
  {
   "cell_type": "code",
   "execution_count": 7,
   "id": "a500a0dc",
   "metadata": {},
   "outputs": [
    {
     "data": {
      "text/plain": [
       "<AxesSubplot:xlabel='month', ylabel='Count'>"
      ]
     },
     "execution_count": 7,
     "metadata": {},
     "output_type": "execute_result"
    },
    {
     "data": {
      "image/png": "[encoded data removed]",
      "text/plain": [
       "<Figure size 1440x216 with 1 Axes>"
      ]
     },
     "metadata": {
      "needs_background": "light"
     },
     "output_type": "display_data"
    }
   ],
   "source": [
    "plt.rcParams[\"figure.figsize\"] = (20,3)\n",
    "sns.histplot(df.month.sort_index(ascending=True), color = 'pink')\n",
    "sns.histplot(df.day_of_week.sort_index(ascending=True), color = 'orange')"
   ]
  },
  {
   "cell_type": "code",
   "execution_count": 10,
   "id": "7c0052e2",
   "metadata": {},
   "outputs": [
    {
     "data": {
      "text/plain": [
       "<AxesSubplot:xlabel='hour', ylabel='Count'>"
      ]
     },
     "execution_count": 10,
     "metadata": {},
     "output_type": "execute_result"
    },
    {
     "data": {
      "image/png": "[encoded data removed]",
      "text/plain": [
       "<Figure size 1440x216 with 1 Axes>"
      ]
     },
     "metadata": {
      "needs_background": "light"
     },
     "output_type": "display_data"
    }
   ],
   "source": [
    "plt.rcParams[\"figure.figsize\"] = (20,3)\n",
    "sns.histplot(df.hour.sort_index(ascending=True), color = 'pink')"
   ]
  },
  {
   "cell_type": "markdown",
   "id": "af948246",
   "metadata": {},
   "source": [
    "* Holiday season and summertime have more accidents happen.\n",
    "* Sunday has the highest number of accidents.\n",
    "* Accidents happen more from 15:00 - 23:00 in Montgomery county."
   ]
  },
  {
   "cell_type": "code",
   "execution_count": 14,
   "id": "48aa61fe",
   "metadata": {},
   "outputs": [
    {
     "data": {
      "text/plain": [
       "<AxesSubplot:ylabel='year'>"
      ]
     },
     "execution_count": 14,
     "metadata": {},
     "output_type": "execute_result"
    },
    {
     "data": {
      "image/png": "[encoded data removed]",
      "text/plain": [
       "<Figure size 720x576 with 1 Axes>"
      ]
     },
     "metadata": {
      "needs_background": "light"
     },
     "output_type": "display_data"
    },
    {
     "data": {
      "image/png": "[encoded data removed]",
      "text/plain": [
       "<Figure size 720x288 with 1 Axes>"
      ]
     },
     "metadata": {
      "needs_background": "light"
     },
     "output_type": "display_data"
    },
    {
     "data": {
      "image/png": "[encoded data removed]",
      "text/plain": [
       "<Figure size 720x360 with 1 Axes>"
      ]
     },
     "metadata": {
      "needs_background": "light"
     },
     "output_type": "display_data"
    },
    {
     "data": {
      "image/png": "[encoded data removed]",
      "text/plain": [
       "<Figure size 720x360 with 1 Axes>"
      ]
     },
     "metadata": {
      "needs_background": "light"
     },
     "output_type": "display_data"
    }
   ],
   "source": [
    "# create hour, day of week, month and year crosstab tables\n",
    "hour = pd.crosstab(train.hour, train['Personal Injury'], normalize = 'index').sort_index(ascending=False)\n",
    "day_of_week = pd.crosstab(train.day_of_week, train['Personal Injury'], normalize = 'index').sort_index(ascending=False)\n",
    "month = pd.crosstab(train.month, train['Personal Injury'], normalize = 'index').sort_index(ascending=False)\n",
    "year = pd.crosstab(train.year, train['Personal Injury'], normalize = 'index').sort_index(ascending=False)\n",
    "\n",
    "# plot chart for each table to show the percentage of personal injury\n",
    "hour.plot.barh(stacked = True, figsize = (10, 8), fontsize = 10)\n",
    "day_of_week.plot.barh(stacked = True, figsize = (10, 4), fontsize = 10)\n",
    "month.plot.barh(stacked = True, figsize = (10, 5), fontsize = 10)\n",
    "year.plot.barh(stacked = True, figsize = (10, 5), fontsize = 10)"
   ]
  },
  {
   "cell_type": "markdown",
   "id": "2795e6d5",
   "metadata": {},
   "source": [
    "* Let's run statistic tests for day of week and hours"
   ]
  },
  {
   "cell_type": "code",
   "execution_count": 15,
   "id": "c55a8dbd",
   "metadata": {},
   "outputs": [
    {
     "name": "stdout",
     "output_type": "stream",
     "text": [
      "We reject the null hypothesis, they are dependent.\n"
     ]
    }
   ],
   "source": [
    "observed1 = pd.crosstab(train.day_of_week, train['Personal Injury'])\n",
    "chi21, p1, degf1, expected1 = stats.chi2_contingency(observed1)\n",
    "\n",
    "alpha = 0.05\n",
    "if p1 < alpha:\n",
    "    print(\"We reject the null hypothesis, they are dependent.\")\n",
    "else:\n",
    "    print(\"We fail to reject the null hypothesis, they are independent.\")"
   ]
  },
  {
   "cell_type": "code",
   "execution_count": 16,
   "id": "c88c09be",
   "metadata": {},
   "outputs": [
    {
     "name": "stdout",
     "output_type": "stream",
     "text": [
      "We reject the null hypothesis, they are dependent.\n"
     ]
    }
   ],
   "source": [
    "observed2 = pd.crosstab(train.hour, train['Personal Injury'])\n",
    "chi22, p2, degf2, expected2 = stats.chi2_contingency(observed2)\n",
    "\n",
    "alpha = 0.05\n",
    "if p2 < alpha:\n",
    "    print(\"We reject the null hypothesis, they are dependent.\")\n",
    "else:\n",
    "    print(\"We fail to reject the null hypothesis, they are independent.\")"
   ]
  },
  {
   "cell_type": "markdown",
   "id": "111cd81d",
   "metadata": {},
   "source": [
    "### Answer:\n",
    "* Hour: Most personal injury accidents happen during the daytime, from 06:00 - 18:00.\n",
    "\n",
    "\n",
    "* Day of the week: Weekends seem to have fewer personal injury accidents even weekends have more accidents number.\n",
    "\n",
    "\n",
    "* Month: June and October have the highest personal injury rate in accidents just the same as accidents number.\n",
    "\n",
    "\n",
    "* Year: 2020-2022 has the lowest rate because COVID started from the beginning of 2020 and accidents number reduced a lot due to COVID."
   ]
  },
  {
   "cell_type": "markdown",
   "id": "d2fc3457",
   "metadata": {},
   "source": [
    "### 2. Does the personal injury in accident rate related to race and gender?"
   ]
  },
  {
   "cell_type": "code",
   "execution_count": 17,
   "id": "cefc9901",
   "metadata": {},
   "outputs": [
    {
     "data": {
      "text/plain": [
       "<AxesSubplot:xlabel='Gender', ylabel='Count'>"
      ]
     },
     "execution_count": 17,
     "metadata": {},
     "output_type": "execute_result"
    },
    {
     "data": {
      "image/png": "[encoded data removed]",
      "text/plain": [
       "<Figure size 720x216 with 1 Axes>"
      ]
     },
     "metadata": {
      "needs_background": "light"
     },
     "output_type": "display_data"
    }
   ],
   "source": [
    "# gender and race count for accident\n",
    "plt.rcParams[\"figure.figsize\"] = (10,3)\n",
    "sns.histplot(train.Gender, color = 'green')\n",
    "sns.histplot(train.Race, color = 'yellow')"
   ]
  },
  {
   "cell_type": "code",
   "execution_count": 18,
   "id": "4f03ede6",
   "metadata": {},
   "outputs": [
    {
     "data": {
      "text/plain": [
       "<AxesSubplot:ylabel='Race'>"
      ]
     },
     "execution_count": 18,
     "metadata": {},
     "output_type": "execute_result"
    },
    {
     "data": {
      "image/png": "[encoded data removed]",
      "text/plain": [
       "<Figure size 720x144 with 1 Axes>"
      ]
     },
     "metadata": {
      "needs_background": "light"
     },
     "output_type": "display_data"
    },
    {
     "data": {
      "image/png": "[encoded data removed]",
      "text/plain": [
       "<Figure size 720x216 with 1 Axes>"
      ]
     },
     "metadata": {
      "needs_background": "light"
     },
     "output_type": "display_data"
    }
   ],
   "source": [
    "race = pd.crosstab(train.Race, train['Personal Injury'], normalize = 'index')\n",
    "gender = pd.crosstab(train.Gender, train['Personal Injury'], normalize = 'index')\n",
    "\n",
    "gender.plot.barh(stacked = True, figsize = (10, 2), fontsize = 12)\n",
    "race.plot.barh(stacked = True, figsize = (10, 3), fontsize = 12)"
   ]
  },
  {
   "cell_type": "markdown",
   "id": "7573cf30",
   "metadata": {},
   "source": [
    "### Answer:\n",
    "* Gender: male accident number is more than double of the female, but the female's personal injury rate is higher than males.\n",
    "\n",
    "\n",
    "* Race: according to the race count and personal injury rate in the accident, white people should be the highest one."
   ]
  },
  {
   "cell_type": "markdown",
   "id": "c874fe9c",
   "metadata": {},
   "source": [
    "### 3. What about the relationship between personal injury and Violation Type? alcohol?"
   ]
  },
  {
   "cell_type": "code",
   "execution_count": 19,
   "id": "4f4ef99a",
   "metadata": {},
   "outputs": [
    {
     "data": {
      "text/plain": [
       "<AxesSubplot:ylabel='Alcohol'>"
      ]
     },
     "execution_count": 19,
     "metadata": {},
     "output_type": "execute_result"
    },
    {
     "data": {
      "image/png": "[encoded data removed]",
      "text/plain": [
       "<Figure size 720x216 with 1 Axes>"
      ]
     },
     "metadata": {
      "needs_background": "light"
     },
     "output_type": "display_data"
    },
    {
     "data": {
      "image/png": "[encoded data removed]",
      "text/plain": [
       "<Figure size 720x144 with 1 Axes>"
      ]
     },
     "metadata": {
      "needs_background": "light"
     },
     "output_type": "display_data"
    }
   ],
   "source": [
    "violation = pd.crosstab(train['Violation Type'], train['Personal Injury'], normalize = 'index')\n",
    "alcohol = pd.crosstab(train.Alcohol, train['Personal Injury'], normalize = 'index')\n",
    "\n",
    "violation.plot.barh(stacked = True, figsize = (10, 3), fontsize = 10)\n",
    "alcohol.plot.barh(stacked = True, figsize = (10, 2), fontsize = 10)"
   ]
  },
  {
   "cell_type": "markdown",
   "id": "361067b5",
   "metadata": {},
   "source": [
    "### Answer:\n",
    "* Violation Type: Citation and warning are the highest two, it might be because citation has the highest accident counts.\n",
    "\n",
    "\n",
    "* Alcohol: alcohol-related accident has more chance to cause personal injury."
   ]
  },
  {
   "cell_type": "markdown",
   "id": "31298de8",
   "metadata": {},
   "source": [
    "### 4. Does personal injury in the accident have a relationship with the agency location?"
   ]
  },
  {
   "cell_type": "code",
   "execution_count": 20,
   "id": "db433ff9",
   "metadata": {},
   "outputs": [
    {
     "data": {
      "text/plain": [
       "<AxesSubplot:ylabel='SubAgency'>"
      ]
     },
     "execution_count": 20,
     "metadata": {},
     "output_type": "execute_result"
    },
    {
     "data": {
      "image/png": "[encoded data removed]",
      "text/plain": [
       "<Figure size 720x288 with 1 Axes>"
      ]
     },
     "metadata": {
      "needs_background": "light"
     },
     "output_type": "display_data"
    }
   ],
   "source": [
    "agency = pd.crosstab(train['SubAgency'], train['Personal Injury'], normalize = 'index')\n",
    "agency.plot.barh(stacked = True, figsize = (10, 4), fontsize = 10)"
   ]
  },
  {
   "cell_type": "code",
   "execution_count": 21,
   "id": "76cf303a",
   "metadata": {},
   "outputs": [
    {
     "name": "stdout",
     "output_type": "stream",
     "text": [
      "We reject the null hypothesis, they are dependent.\n"
     ]
    }
   ],
   "source": [
    "observed3 = pd.crosstab(train.SubAgency, train['Personal Injury'])\n",
    "chi23, p3, degf3, expected3 = stats.chi2_contingency(observed1)\n",
    "\n",
    "alpha = 0.05\n",
    "if p3 < alpha:\n",
    "    print(\"We reject the null hypothesis, they are dependent.\")\n",
    "else:\n",
    "    print(\"We fail to reject the null hypothesis, they are independent.\")"
   ]
  },
  {
   "cell_type": "markdown",
   "id": "a75bd8d5",
   "metadata": {},
   "source": [
    "### Answer:\n",
    "* Different locations have different rates of personal injury, they are dependent. Germantown is the highest one."
   ]
  },
  {
   "cell_type": "markdown",
   "id": "4d5a0d89",
   "metadata": {},
   "source": [
    "### 5. Is property damage and belts use have a relationship with personal injury?"
   ]
  },
  {
   "cell_type": "code",
   "execution_count": 42,
   "id": "8ac19f20",
   "metadata": {},
   "outputs": [
    {
     "data": {
      "text/plain": [
       "<AxesSubplot:xlabel='Property Damage', ylabel='Count'>"
      ]
     },
     "execution_count": 42,
     "metadata": {},
     "output_type": "execute_result"
    },
    {
     "data": {
      "image/png": "[encoded data removed]",
      "text/plain": [
       "<Figure size 720x216 with 1 Axes>"
      ]
     },
     "metadata": {
      "needs_background": "light"
     },
     "output_type": "display_data"
    }
   ],
   "source": [
    "sns.histplot(train['Property Damage'].sort_index(ascending=True))\n",
    "sns.histplot(train.Belts.sort_index(ascending=True), color = 'yellow')"
   ]
  },
  {
   "cell_type": "code",
   "execution_count": 45,
   "id": "6063330c",
   "metadata": {},
   "outputs": [
    {
     "data": {
      "text/plain": [
       "<AxesSubplot:ylabel='Belts'>"
      ]
     },
     "execution_count": 45,
     "metadata": {},
     "output_type": "execute_result"
    },
    {
     "data": {
      "image/png": "[encoded data removed]",
      "text/plain": [
       "<Figure size 720x144 with 1 Axes>"
      ]
     },
     "metadata": {
      "needs_background": "light"
     },
     "output_type": "display_data"
    },
    {
     "data": {
      "image/png": "[encoded data removed]",
      "text/plain": [
       "<Figure size 720x144 with 1 Axes>"
      ]
     },
     "metadata": {
      "needs_background": "light"
     },
     "output_type": "display_data"
    }
   ],
   "source": [
    "damage = pd.crosstab(train['Property Damage'], train['Personal Injury'], normalize = 'index')\n",
    "belts = pd.crosstab(train.Belts, train['Personal Injury'], normalize = 'index')\n",
    "damage.plot.barh(stacked = True, figsize = (10, 2), fontsize = 10)\n",
    "belts.plot.barh(stacked = True, figsize = (10, 2), fontsize = 10)"
   ]
  },
  {
   "cell_type": "markdown",
   "id": "ce9bdce7",
   "metadata": {},
   "source": [
    "### Answer:\n",
    "* it seems property damage and personal injury has no relationship.\n",
    "* belts nummber seems hard to explain, maybe because some of the violatons don't require the belt check."
   ]
  },
  {
   "cell_type": "markdown",
   "id": "79b73e6b",
   "metadata": {},
   "source": [
    "## Summary\n",
    "\n",
    "Race, gender, alcohol, agency location and all the time features all have relationships with personal injury in traffic accidents. Also, violation type is related to our target variable personal injury. Since violation type is an outcome of traffic violations, personal injury is also an outcome. I prefer to not use one outcome to predict another outcome.\n",
    "\n",
    "* The feature will be used for feature engineering will be:\n",
    "\n",
    "    Alcohol, race, gender, subagency, hour, day of the week, month"
   ]
  },
  {
   "cell_type": "markdown",
   "id": "f7569ab3",
   "metadata": {},
   "source": [
    "## Feature Engineering"
   ]
  },
  {
   "cell_type": "code",
   "execution_count": 24,
   "id": "f62cbea4",
   "metadata": {},
   "outputs": [],
   "source": [
    "from sklearn.feature_selection import SelectKBest, RFE, f_regression, SequentialFeatureSelector\n",
    "\n",
    "# split the train first\n",
    "x_train_feature = train[['Alcohol', 'Race','day_of_week', 'hour','Gender','SubAgency','month']]\n",
    "y_train_feature = train[['Personal Injury']]\n",
    "\n",
    "# get dummy variables \n",
    "x_train_dummy_feature = pd.get_dummies(x_train_feature)\n",
    "y_train_dummy_feature = pd.get_dummies(y_train_feature, drop_first=True)"
   ]
  },
  {
   "cell_type": "code",
   "execution_count": 25,
   "id": "d45c33b3",
   "metadata": {},
   "outputs": [
    {
     "data": {
      "text/plain": [
       "Index(['Race_HISPANIC', 'day_of_week_Sunday', 'hour_01', 'hour_03', 'hour_14',\n",
       "       'hour_23', 'SubAgency_2nd District, Bethesda',\n",
       "       'SubAgency_4th District, Wheaton', 'SubAgency_5th District, Germantown',\n",
       "       'SubAgency_6th District, Gaithersburg / Montgomery Village'],\n",
       "      dtype='object')"
      ]
     },
     "execution_count": 25,
     "metadata": {},
     "output_type": "execute_result"
    }
   ],
   "source": [
    "# use select k best method to select top 10 attributes\n",
    "kbest = SelectKBest(f_regression, k=10)\n",
    "kbest.fit(x_train_dummy_feature, y_train_dummy_feature)\n",
    "x_train_dummy_feature.columns[kbest.get_support()]"
   ]
  },
  {
   "cell_type": "markdown",
   "id": "42ddc754",
   "metadata": {},
   "source": [
    "* select K best : race, day of week, hour, subagency"
   ]
  },
  {
   "cell_type": "code",
   "execution_count": 26,
   "id": "04bc8f8e",
   "metadata": {},
   "outputs": [
    {
     "data": {
      "text/plain": [
       "Index(['month_01-Jan', 'month_02-Feb', 'month_03-Mar', 'month_04-Apr',\n",
       "       'month_05-May', 'month_07-Jul', 'month_08-Aug', 'month_09-Sep',\n",
       "       'month_11-Nov', 'month_12-Dec'],\n",
       "      dtype='object')"
      ]
     },
     "execution_count": 26,
     "metadata": {},
     "output_type": "execute_result"
    }
   ],
   "source": [
    "# use RFE method to select top 10 attributes\n",
    "from sklearn.linear_model import LinearRegression\n",
    "model = LinearRegression()\n",
    "rfe = RFE(model, n_features_to_select=10)\n",
    "rfe.fit(x_train_dummy_feature, y_train_dummy_feature)\n",
    "x_train_dummy_feature.columns[rfe.get_support()]"
   ]
  },
  {
   "cell_type": "markdown",
   "id": "50c744fb",
   "metadata": {},
   "source": [
    "* RFE : month"
   ]
  },
  {
   "cell_type": "markdown",
   "id": "a0551ce8",
   "metadata": {},
   "source": [
    "## Modeling\n",
    "\n",
    "* Because personal injury in accidents is a boolean/yes or no value, I will use classification machine learning algorithms to build my models.\n",
    "* Here I will use race, agency location, hour, week of day and month as my features. Then build four different models with the same features.\n",
    "    1. KNN\n",
    "    2. Decision tree\n",
    "    3. Random forest\n",
    "    4. Logistic regression\n",
    "\n",
    "For the metric, I will use F1 score because I want to minimize all the false predictions. If there is personal injury in accidents but we don't send out medical assistance, it might cause the casualty couldn't get treatment in time. Or if there is no personal injury but we send medical assistance, it will cause a waste of resources.\n",
    "* For calculating F1 score, I created a function in prepare.py"
   ]
  },
  {
   "cell_type": "code",
   "execution_count": 28,
   "id": "42fd5678",
   "metadata": {},
   "outputs": [],
   "source": [
    "# import libraries for modeling\n",
    "from sklearn.tree import DecisionTreeClassifier\n",
    "from sklearn.metrics import classification_report, confusion_matrix, plot_confusion_matrix\n",
    "from sklearn.ensemble import RandomForestClassifier\n",
    "from sklearn.neighbors import KNeighborsClassifier"
   ]
  },
  {
   "cell_type": "markdown",
   "id": "f091cbc9",
   "metadata": {},
   "source": [
    "### Baseline"
   ]
  },
  {
   "cell_type": "code",
   "execution_count": 29,
   "id": "f6612ba2",
   "metadata": {},
   "outputs": [
    {
     "data": {
      "text/plain": [
       "No     20757\n",
       "Yes     6165\n",
       "Name: Personal Injury, dtype: int64"
      ]
     },
     "execution_count": 29,
     "metadata": {},
     "output_type": "execute_result"
    }
   ],
   "source": [
    "# find the mode of personal injury for baseline\n",
    "train['Personal Injury'].value_counts()"
   ]
  },
  {
   "cell_type": "code",
   "execution_count": 30,
   "id": "f1a5a9cf",
   "metadata": {},
   "outputs": [
    {
     "name": "stdout",
     "output_type": "stream",
     "text": [
      "baseline accuracy on train set: 77.10%\n",
      "baseline accuracy on validate set: 77.53%\n"
     ]
    }
   ],
   "source": [
    "# set baseline on train and validate, also calculate the accuracy\n",
    "train['baseline'] = 'No'\n",
    "baseline_accuracy_train = (train['Personal Injury'] == train.baseline).mean()\n",
    "print(f'baseline accuracy on train set: {baseline_accuracy_train:.2%}')\n",
    "validate['baseline'] = 'No'\n",
    "baseline_accuracy_validate = (validate['Personal Injury'] == validate.baseline).mean()\n",
    "print(f'baseline accuracy on validate set: {baseline_accuracy_validate:.2%}')"
   ]
  },
  {
   "cell_type": "code",
   "execution_count": 31,
   "id": "b978d577",
   "metadata": {},
   "outputs": [],
   "source": [
    "# slpit train, validate and test data before modeling\n",
    "x_train = train[['Race','day_of_week', 'hour','month','SubAgency']]\n",
    "y_train = train[['Personal Injury']]\n",
    "x_validate = validate[['Race','day_of_week', 'hour','month','SubAgency']]\n",
    "y_validate = validate[['Personal Injury']]\n",
    "x_test = test[['Race','day_of_week', 'hour','month','SubAgency']]\n",
    "y_test = test[['Personal Injury']]\n",
    "\n",
    "# get dummy variables\n",
    "x_train = pd.get_dummies(x_train, drop_first=True)\n",
    "y_train = pd.get_dummies(y_train, drop_first=True)\n",
    "x_validate = pd.get_dummies(x_validate, drop_first=True)\n",
    "y_validate = pd.get_dummies(y_validate, drop_first=True)\n",
    "x_test = pd.get_dummies(x_test, drop_first=True)\n",
    "y_test = pd.get_dummies(y_test, drop_first=True)"
   ]
  },
  {
   "cell_type": "markdown",
   "id": "f556e62d",
   "metadata": {},
   "source": [
    "## Train\n",
    "1. KNN\n",
    "2. Decision tree\n",
    "3. Random forest\n",
    "4. Logistic regression"
   ]
  },
  {
   "cell_type": "code",
   "execution_count": 33,
   "id": "a3fcb691",
   "metadata": {},
   "outputs": [
    {
     "name": "stdout",
     "output_type": "stream",
     "text": [
      "Accuracy of KNN(k=12) classifier on training set: 81.61%\n",
      "Accuracy of decision tree (max_depth=14) classifier on train set: 80.82%\n",
      "Accuracy of random forest (max_depth=19) classifier on train set: 83.34%\n",
      "Accuracy of Logistic Regression (c=1) on train set: 77.09%\n",
      "baseline accuracy on validate set: 77.10%\n"
     ]
    }
   ],
   "source": [
    "# make the models\n",
    "knn = KNeighborsClassifier(n_neighbors=12, weights='uniform')\n",
    "tree = DecisionTreeClassifier(max_depth = 14, random_state=123)\n",
    "rf = RandomForestClassifier(max_depth=19, min_samples_leaf=1,random_state=123)\n",
    "logit = LogisticRegression(C=1, random_state=123)\n",
    "\n",
    "# fit the models on the x_train\n",
    "knn.fit(x_train, y_train)\n",
    "tree.fit(x_train, y_train)\n",
    "rf.fit(x_train, y_train)\n",
    "logit.fit(x_train, y_train)\n",
    "\n",
    "# get predictions\n",
    "predictions = knn.predict(x_train)\n",
    "predictions1 = tree.predict(x_train)\n",
    "predictions2 = rf.predict(x_train)\n",
    "predictions6 = logit.predict(x_train)\n",
    "\n",
    "# get accuracy for each model\n",
    "print('Accuracy of KNN(k=12) classifier on training set: {:.2%}'\n",
    "     .format(knn.score(x_train, y_train)))\n",
    "print('Accuracy of decision tree (max_depth=14) classifier on train set: {:.2%}'\n",
    "     .format(tree.score(x_train, y_train)))\n",
    "print('Accuracy of random forest (max_depth=19) classifier on train set: {:.2%}'\n",
    "     .format(rf.score(x_train, y_train)))\n",
    "print('Accuracy of Logistic Regression (c=1) on train set: {:.2%}'\n",
    "     .format(logit.score(x_train, y_train)))\n",
    "print(f'baseline accuracy on validate set: {baseline_accuracy_train:.2%}')"
   ]
  },
  {
   "cell_type": "markdown",
   "id": "6bfaff2b",
   "metadata": {},
   "source": [
    "####  Takeaway: \n",
    "* it seems logistic regression model doesn't perform well on imbalance data, there is no need to calculate the F1 score."
   ]
  },
  {
   "cell_type": "code",
   "execution_count": 38,
   "id": "ca9e8479",
   "metadata": {},
   "outputs": [
    {
     "name": "stdout",
     "output_type": "stream",
     "text": [
      "F1 score of KNN(k=12) classifier on training set: 41.82%\n",
      "F1 score of decision tree (max_depth=14) classifier on training set: 31.42%\n",
      "F1 score of random forest (max_depth=19) classifier on training set: 43.46%\n"
     ]
    }
   ],
   "source": [
    "# calculate F1 scores on train\n",
    "f1_knn_train = prepare.f1_score(y_train, predictions)\n",
    "f1_tree_train = prepare.f1_score(y_train, predictions1)\n",
    "f1_rf_train = prepare.f1_score(y_train, predictions2)\n",
    "\n",
    "print('F1 score of KNN(k=12) classifier on training set: {:.2%}'\n",
    "     .format(f1_knn_train))\n",
    "print('F1 score of decision tree (max_depth=14) classifier on training set: {:.2%}'\n",
    "     .format(f1_tree_train))\n",
    "print('F1 score of random forest (max_depth=19) classifier on training set: {:.2%}'\n",
    "     .format(f1_rf_train))"
   ]
  },
  {
   "cell_type": "markdown",
   "id": "32ffc36b",
   "metadata": {},
   "source": [
    "* Accuracy on train: \n",
    "    * baseline -- 77.10%\n",
    "    1. KNN -- 81.61%\n",
    "    2. Decision tree -- 80.82%\n",
    "    3. Random forest -- 83.34%\n",
    "    4. Logistic regression -- 77.09%\n",
    "    \n",
    "\n",
    "* F1 score on train:\n",
    "    1. KNN -- 41.82%\n",
    "    2. Decision tree -- 31.42%\n",
    "    3. Random forest -- 43.46%"
   ]
  },
  {
   "cell_type": "markdown",
   "id": "0ec19e1c",
   "metadata": {},
   "source": [
    "## Validate\n",
    "Fit the top three models on validate.\n",
    "\n",
    "    1. KNN\n",
    "    2. Decision tree\n",
    "    3. Random forest"
   ]
  },
  {
   "cell_type": "code",
   "execution_count": 35,
   "id": "b2cb0d10",
   "metadata": {},
   "outputs": [
    {
     "name": "stdout",
     "output_type": "stream",
     "text": [
      "baseline accuracy on validate set: 77.53%\n",
      "Accuracy of KNN (k = 12) classifier on validate set: 79.25%\n",
      "Accuracy of decision tree (max_depth = 14) classifier on validate set: 79.16%\n",
      "Accuracy of random forest (max_depth=19) classifier on validate set: 81.13%\n"
     ]
    }
   ],
   "source": [
    "# predict on validate\n",
    "y_pred_knn_validate = knn.predict(x_validate)\n",
    "y_pred_tree_validate = tree.predict(x_validate)\n",
    "y_pred_rf_validate = rf.predict(x_validate)\n",
    "\n",
    "# evaluate the accuracy on validate\n",
    "print(f'baseline accuracy on validate set: {baseline_accuracy_validate:.2%}')\n",
    "print('Accuracy of KNN (k = 12) classifier on validate set: {:.2%}'\n",
    "     .format(knn.score(x_validate, y_validate)))\n",
    "print('Accuracy of decision tree (max_depth = 14) classifier on validate set: {:.2%}'\n",
    "     .format(tree.score(x_validate, y_validate)))\n",
    "print('Accuracy of random forest (max_depth=19) classifier on validate set: {:.2%}'\n",
    "     .format(rf.score(x_validate, y_validate)))"
   ]
  },
  {
   "cell_type": "code",
   "execution_count": 39,
   "id": "ee15cbe4",
   "metadata": {},
   "outputs": [
    {
     "name": "stdout",
     "output_type": "stream",
     "text": [
      "F1 score of KNN(k=12) classifier on validate set: 30.73%\n",
      "F1 score of decision tree (max_depth=14) classifier on validate set: 24.06%\n",
      "F1 score of random forest (max_depth=19) classifier on validate set: 31.17%\n"
     ]
    }
   ],
   "source": [
    "# calculate F1 scores for the top 3 models on validate\n",
    "predictions3 = knn.predict(x_validate)\n",
    "predictions4 = tree.predict(x_validate)\n",
    "predictions5 = rf.predict(x_validate)\n",
    "\n",
    "f1_knn_validate = prepare.f1_score(y_validate, predictions3)\n",
    "f1_tree_validate = prepare.f1_score(y_validate, predictions4)\n",
    "f1_rf_validate = prepare.f1_score(y_validate, predictions5)\n",
    "\n",
    "print('F1 score of KNN(k=12) classifier on validate set: {:.2%}'\n",
    "     .format(f1_knn_validate))\n",
    "print('F1 score of decision tree (max_depth=14) classifier on validate set: {:.2%}'\n",
    "     .format(f1_tree_validate))\n",
    "print('F1 score of random forest (max_depth=19) classifier on validate set: {:.2%}'\n",
    "     .format(f1_rf_validate))"
   ]
  },
  {
   "cell_type": "markdown",
   "id": "ab0b3152",
   "metadata": {},
   "source": [
    "* Accuracy on validate:     \n",
    "    * baseline -- 77.53%\n",
    "    1. KNN -- 79.25%\n",
    "    2. Decision tree -- 79.08%\n",
    "    3. Random forest -- 81.13%\n",
    "\n",
    "\n",
    "* F1 score on validate:\n",
    "    1. KNN -- 30.73%\n",
    "    2. Decision tree -- 24.06%\n",
    "    3. Random forest -- 31.17%\n",
    "    \n",
    "### Random forest is the best model"
   ]
  },
  {
   "cell_type": "markdown",
   "id": "2416385b",
   "metadata": {},
   "source": [
    "## Test - Random Forest ( max_depth = 19)"
   ]
  },
  {
   "cell_type": "code",
   "execution_count": 40,
   "id": "84bf70f7",
   "metadata": {},
   "outputs": [
    {
     "name": "stdout",
     "output_type": "stream",
     "text": [
      "Accuracy of decision tree (max_depth = 19) on test set: 81.07%\n"
     ]
    }
   ],
   "source": [
    "# predict on test\n",
    "y_pred_test = rf.predict(x_test)\n",
    "\n",
    "# evaluate on test\n",
    "print('Accuracy of decision tree (max_depth = 19) on test set: {:.2%}'\n",
    "     .format(rf.score(x_test, y_test)))"
   ]
  },
  {
   "cell_type": "code",
   "execution_count": 46,
   "id": "22724da9",
   "metadata": {},
   "outputs": [
    {
     "data": {
      "text/plain": [
       "0.3111279333838002"
      ]
     },
     "execution_count": 46,
     "metadata": {},
     "output_type": "execute_result"
    }
   ],
   "source": [
    "predictions7 = rf.predict(x_test)\n",
    "prepare.f1_score(y_test, predictions7)"
   ]
  },
  {
   "cell_type": "markdown",
   "id": "b50f60b4",
   "metadata": {},
   "source": [
    "### Expectation:\n",
    "According to the test result, I expect the model will perform 81.07% accuracy in the future data if the data souce has no major change."
   ]
  },
  {
   "cell_type": "markdown",
   "id": "4b7c5e4e",
   "metadata": {},
   "source": [
    "# Conclusion"
   ]
  },
  {
   "cell_type": "markdown",
   "id": "b6b840d1",
   "metadata": {},
   "source": [
    "## Summary\n",
    "By analyzing the attributes of personal injury in Montgomery county (MD) traffic accidents. We built a Random forest model with a max depth of 19 to predict personal injury in accidents. The features I used for this model are race, agency location, hour, day of week and month. \n",
    "The accuracy of the test model is 81.07%."
   ]
  },
  {
   "cell_type": "markdown",
   "id": "9b2a7d20",
   "metadata": {},
   "source": [
    "## Recommendations \n",
    "\n",
    "1. In the original data, the traffic violation description part has too many different variables (around 16000+). It's very hard to organize the description. But I think this is a very important feature for predicting accidents and personal injury. Creating more categories for separating violations will be very helpful.\n",
    "\n",
    "\n",
    "2. Montgomery county's traffic violation data doesn't have the age information. A lot more other places' records do have the age columns. I guess it's an important attribute and wish they can add age to the data.\n",
    "\n",
    "\n",
    "3. For the accident location, it will be better to have a city column instead of having detailed address. In this report, I use the race column to kind of estimating the location since some places do have more volume of a certain race. But I don't think this method is accurate."
   ]
  },
  {
   "cell_type": "markdown",
   "id": "39344141",
   "metadata": {},
   "source": [
    "## Next Steps\n",
    "\n",
    "1. I would like to organize the description into different categories to see if will help my model perform better.\n",
    "\n",
    "\n",
    "2. Personal injury in the accident is not the only outcome of traffic violations. I would like to analyze more outcomes. Explore more different target variables from this data."
   ]
  },
  {
   "cell_type": "markdown",
   "id": "3274af78",
   "metadata": {},
   "source": [
    "### Github:\n",
    "\n",
    "https://github.com/Chenchen070/Individual_project_traffic_violation.git"
   ]
  },
  {
   "cell_type": "code",
   "execution_count": null,
   "id": "e4d07d23",
   "metadata": {},
   "outputs": [],
   "source": []
  }
 ],
 "metadata": {
  "kernelspec": {
   "display_name": "Python 3 (ipykernel)",
   "language": "python",
   "name": "python3"
  },
  "language_info": {
   "codemirror_mode": {
    "name": "ipython",
    "version": 3
   },
   "file_extension": ".py",
   "mimetype": "text/x-python",
   "name": "python",
   "nbconvert_exporter": "python",
   "pygments_lexer": "ipython3",
   "version": "3.9.12"
  }
 },
 "nbformat": 4,
 "nbformat_minor": 5
}
